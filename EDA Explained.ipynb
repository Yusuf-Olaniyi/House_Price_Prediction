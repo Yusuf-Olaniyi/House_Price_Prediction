{
 "cells": [
  {
   "cell_type": "code",
   "execution_count": 1,
   "id": "fde04551",
   "metadata": {},
   "outputs": [],
   "source": [
    "import pandas as pd\n",
    "import matplotlib.pyplot as plt\n",
    "import seaborn as sns\n",
    "import scipy.stats"
   ]
  },
  {
   "cell_type": "code",
   "execution_count": 2,
   "id": "a4a60534",
   "metadata": {},
   "outputs": [],
   "source": [
    "df = pd.read_csv('train.csv')"
   ]
  },
  {
   "cell_type": "code",
   "execution_count": 3,
   "id": "eb2f1193",
   "metadata": {},
   "outputs": [
    {
     "data": {
      "text/plain": [
       "(30471, 292)"
      ]
     },
     "execution_count": 3,
     "metadata": {},
     "output_type": "execute_result"
    }
   ],
   "source": [
    "df.shape"
   ]
  },
  {
   "cell_type": "markdown",
   "id": "840cffb0",
   "metadata": {},
   "source": [
    "### For features that has to deal with a fix distance from the apartment, I checked for the correlation between each and the record of the data at 500 km from the building and added every features to the mult_col list in the wrangle function"
   ]
  },
  {
   "cell_type": "code",
   "execution_count": 32,
   "id": "fda037af",
   "metadata": {},
   "outputs": [
    {
     "data": {
      "text/plain": [
       "cafe_count_1000_price_1500    0.927755\n",
       "cafe_count_1500_price_1500    0.912625\n",
       "cafe_count_2000_price_1500    0.910961\n",
       "cafe_count_3000_price_1500    0.903446\n",
       "cafe_count_5000_price_1500    0.825671\n",
       "dtype: float64"
      ]
     },
     "execution_count": 32,
     "metadata": {},
     "output_type": "execute_result"
    }
   ],
   "source": [
    "df[['cafe_count_1000_price_1500','cafe_count_1500_price_1500','cafe_count_2000_price_1500','cafe_count_3000_price_1500','cafe_count_5000_price_1500']].corrwith(df['cafe_count_500_price_1500'])"
   ]
  },
  {
   "cell_type": "markdown",
   "id": "932161bf",
   "metadata": {},
   "source": [
    "### For some columns, I checked for multicollinearity using the lines of code below and I drop them based on either correaltion with the target variable or if the NaN are not repeated at random or domain knowledege  "
   ]
  },
  {
   "cell_type": "code",
   "execution_count": 30,
   "id": "b2b2ed1d",
   "metadata": {},
   "outputs": [],
   "source": [
    "col = []\n",
    "for column in df.columns:\n",
    "    if 'metro' in column:\n",
    "        col.append(column)"
   ]
  },
  {
   "cell_type": "code",
   "execution_count": 31,
   "id": "7db1458d",
   "metadata": {},
   "outputs": [
    {
     "data": {
      "text/html": [
       "<div>\n",
       "<style scoped>\n",
       "    .dataframe tbody tr th:only-of-type {\n",
       "        vertical-align: middle;\n",
       "    }\n",
       "\n",
       "    .dataframe tbody tr th {\n",
       "        vertical-align: top;\n",
       "    }\n",
       "\n",
       "    .dataframe thead th {\n",
       "        text-align: right;\n",
       "    }\n",
       "</style>\n",
       "<table border=\"1\" class=\"dataframe\">\n",
       "  <thead>\n",
       "    <tr style=\"text-align: right;\">\n",
       "      <th></th>\n",
       "      <th>ID_metro</th>\n",
       "      <th>metro_min_avto</th>\n",
       "      <th>metro_km_avto</th>\n",
       "      <th>metro_min_walk</th>\n",
       "      <th>metro_km_walk</th>\n",
       "    </tr>\n",
       "  </thead>\n",
       "  <tbody>\n",
       "    <tr>\n",
       "      <th>ID_metro</th>\n",
       "      <td>1.000000</td>\n",
       "      <td>0.110586</td>\n",
       "      <td>0.116389</td>\n",
       "      <td>0.121894</td>\n",
       "      <td>0.121894</td>\n",
       "    </tr>\n",
       "    <tr>\n",
       "      <th>metro_min_avto</th>\n",
       "      <td>0.110586</td>\n",
       "      <td>1.000000</td>\n",
       "      <td>0.945035</td>\n",
       "      <td>0.938710</td>\n",
       "      <td>0.938710</td>\n",
       "    </tr>\n",
       "    <tr>\n",
       "      <th>metro_km_avto</th>\n",
       "      <td>0.116389</td>\n",
       "      <td>0.945035</td>\n",
       "      <td>1.000000</td>\n",
       "      <td>0.986754</td>\n",
       "      <td>0.986754</td>\n",
       "    </tr>\n",
       "    <tr>\n",
       "      <th>metro_min_walk</th>\n",
       "      <td>0.121894</td>\n",
       "      <td>0.938710</td>\n",
       "      <td>0.986754</td>\n",
       "      <td>1.000000</td>\n",
       "      <td>1.000000</td>\n",
       "    </tr>\n",
       "    <tr>\n",
       "      <th>metro_km_walk</th>\n",
       "      <td>0.121894</td>\n",
       "      <td>0.938710</td>\n",
       "      <td>0.986754</td>\n",
       "      <td>1.000000</td>\n",
       "      <td>1.000000</td>\n",
       "    </tr>\n",
       "  </tbody>\n",
       "</table>\n",
       "</div>"
      ],
      "text/plain": [
       "                ID_metro  metro_min_avto  metro_km_avto  metro_min_walk  \\\n",
       "ID_metro        1.000000        0.110586       0.116389        0.121894   \n",
       "metro_min_avto  0.110586        1.000000       0.945035        0.938710   \n",
       "metro_km_avto   0.116389        0.945035       1.000000        0.986754   \n",
       "metro_min_walk  0.121894        0.938710       0.986754        1.000000   \n",
       "metro_km_walk   0.121894        0.938710       0.986754        1.000000   \n",
       "\n",
       "                metro_km_walk  \n",
       "ID_metro             0.121894  \n",
       "metro_min_avto       0.938710  \n",
       "metro_km_avto        0.986754  \n",
       "metro_min_walk       1.000000  \n",
       "metro_km_walk        1.000000  "
      ]
     },
     "execution_count": 31,
     "metadata": {},
     "output_type": "execute_result"
    }
   ],
   "source": [
    "df[col].corr()"
   ]
  },
  {
   "cell_type": "markdown",
   "id": "7419d383",
   "metadata": {},
   "source": [
    "### To get the null value"
   ]
  },
  {
   "cell_type": "code",
   "execution_count": 33,
   "id": "bfd225d1",
   "metadata": {},
   "outputs": [
    {
     "data": {
      "text/plain": [
       "ID_metro           0\n",
       "metro_min_avto     0\n",
       "metro_km_avto      0\n",
       "metro_min_walk    25\n",
       "metro_km_walk     25\n",
       "dtype: int64"
      ]
     },
     "execution_count": 33,
     "metadata": {},
     "output_type": "execute_result"
    }
   ],
   "source": [
    "df[col].isnull().sum()"
   ]
  },
  {
   "cell_type": "markdown",
   "id": "bf1ca19e",
   "metadata": {},
   "source": [
    "### To get the indexes of the null value"
   ]
  },
  {
   "cell_type": "code",
   "execution_count": 35,
   "id": "db2f3d5d",
   "metadata": {},
   "outputs": [
    {
     "data": {
      "text/plain": [
       "[10709,\n",
       " 13259,\n",
       " 13699,\n",
       " 14796,\n",
       " 15790,\n",
       " 17358,\n",
       " 18255,\n",
       " 19344,\n",
       " 19370,\n",
       " 19477,\n",
       " 21593,\n",
       " 21717,\n",
       " 24553,\n",
       " 26944,\n",
       " 27004,\n",
       " 27199,\n",
       " 27875,\n",
       " 28213,\n",
       " 28669,\n",
       " 28933,\n",
       " 29494,\n",
       " 29763,\n",
       " 29830,\n",
       " 29946,\n",
       " 30037]"
      ]
     },
     "execution_count": 35,
     "metadata": {},
     "output_type": "execute_result"
    }
   ],
   "source": [
    "df[df.metro_min_walk.isnull()].index.to_list()"
   ]
  },
  {
   "cell_type": "markdown",
   "id": "0cff9304",
   "metadata": {},
   "source": [
    "### I repeated this steps for all the numerical features in the data frame to ensure that there is no form of multicollinearity"
   ]
  },
  {
   "cell_type": "markdown",
   "id": "ae80f079",
   "metadata": {},
   "source": [
    "### I dropped features with large NaN values"
   ]
  },
  {
   "cell_type": "markdown",
   "id": "8c36ce20",
   "metadata": {},
   "source": [
    "### Others steps are in the wrangle function"
   ]
  },
  {
   "cell_type": "code",
   "execution_count": 4,
   "id": "b2178bc2",
   "metadata": {},
   "outputs": [],
   "source": [
    "df1=pd.read_csv('macro.csv')"
   ]
  },
  {
   "cell_type": "code",
   "execution_count": 5,
   "id": "861a9c0d",
   "metadata": {},
   "outputs": [
    {
     "data": {
      "text/plain": [
       "(2484, 100)"
      ]
     },
     "execution_count": 5,
     "metadata": {},
     "output_type": "execute_result"
    }
   ],
   "source": [
    "df1.shape"
   ]
  },
  {
   "cell_type": "code",
   "execution_count": null,
   "id": "696bd18e",
   "metadata": {},
   "outputs": [],
   "source": []
  }
 ],
 "metadata": {
  "kernelspec": {
   "display_name": "Python 3 (ipykernel)",
   "language": "python",
   "name": "python3"
  },
  "language_info": {
   "codemirror_mode": {
    "name": "ipython",
    "version": 3
   },
   "file_extension": ".py",
   "mimetype": "text/x-python",
   "name": "python",
   "nbconvert_exporter": "python",
   "pygments_lexer": "ipython3",
   "version": "3.9.7"
  }
 },
 "nbformat": 4,
 "nbformat_minor": 5
}
