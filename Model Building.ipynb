{
 "cells": [
  {
   "cell_type": "markdown",
   "id": "2ab842e5",
   "metadata": {},
   "source": [
    "## Importing the required models"
   ]
  },
  {
   "cell_type": "code",
   "execution_count": 1,
   "id": "246ceed8",
   "metadata": {},
   "outputs": [],
   "source": [
    "import pandas as pd\n",
    "import numpy as np\n",
    "import matplotlib.pyplot as plt\n",
    "import seaborn as sns\n",
    "import scipy.stats\n",
    "import sklearn.preprocessing as preproc\n",
    "from sklearn.model_selection import train_test_split\n",
    "from sklearn.linear_model import Ridge"
   ]
  },
  {
   "cell_type": "markdown",
   "id": "ff79b72f",
   "metadata": {},
   "source": [
    "## Data wrangling with a wrangle function"
   ]
  },
  {
   "cell_type": "markdown",
   "id": "2e748304",
   "metadata": {},
   "source": [
    "### The details of the wrangle function can be found in the  EDA and EDA Explained Script"
   ]
  },
  {
   "cell_type": "code",
   "execution_count": 2,
   "id": "59e05309",
   "metadata": {},
   "outputs": [],
   "source": [
    "def wrangle(path):\n",
    "    df = pd.read_csv(path)\n",
    "    \n",
    "    d = pd.read_csv('macro.csv')\n",
    "    df = pd.merge(df,d,how = 'inner',on = 'timestamp')\n",
    "    \n",
    "    #multicollinear columns from the dataframe df\n",
    "    mult_col = ['cafe_count_1000_price_high','cafe_count_1500_price_high','cafe_count_2000_price_high','cafe_count_3000_price_high',\n",
    "                'cafe_count_5000_price_high','cafe_count_1000_price_1500','cafe_count_1500_price_1500','cafe_count_2000_price_1500',\n",
    "                'cafe_count_3000_price_1500','cafe_count_5000_price_1500','cafe_count_1000_price_1000','cafe_count_1500_price_1000',\n",
    "                'cafe_count_2000_price_1000','cafe_count_3000_price_1000','cafe_count_5000_price_1000','cafe_count_1000_na_price',\n",
    "                'cafe_count_1500_na_price','cafe_count_2000_na_price','cafe_count_3000_na_price','cafe_count_5000_na_price',\n",
    "                'cafe_count_1000','cafe_count_1500','cafe_count_2000','cafe_count_3000','cafe_count_5000','office_count_1000',\n",
    "                'office_count_1500','office_count_2000','office_count_3000','office_count_5000','office_sqm_500','office_sqm_1000',\n",
    "                'office_sqm_1500','office_sqm_2000','office_sqm_3000','office_sqm_5000','trc_sqm_500','trc_sqm_1000','trc_sqm_1500',\n",
    "                'trc_sqm_2000','trc_sqm_3000','trc_sqm_5000','trc_count_1000','trc_count_1500','trc_count_2000','trc_count_3000','trc_count_5000',\n",
    "                'public_transport_station_min_walk','sport_count_1000','sport_count_1500','sport_count_2000','sport_count_3000','sport_count_5000',\n",
    "                 'green_part_2000','green_part_3000','green_part_5000','prom_part_3000','prom_part_2000','prom_part_5000','railroad_station_walk_min',\n",
    "                'cafe_sum_1500_min_price_avg','cafe_sum_1500_max_price_avg','cafe_sum_2000_min_price_avg','cafe_sum_2000_max_price_avg',\n",
    "                'cafe_sum_3000_min_price_avg','cafe_sum_3000_max_price_avg','cafe_sum_5000_min_price_avg','cafe_sum_5000_max_price_avg',\n",
    "                'cafe_avg_price_1500','build_count_slag','build_count_mix','build_count_frame', 'preschool_education_centers_raion',\n",
    "                'raion_build_count_with_builddate_info','raion_build_count_with_material_info','build_count_1921-1945','cafe_sum_500_max_price_avg',\n",
    "                'cafe_sum_500_min_price_avg','preschool_quota','cafe_avg_price_500','cafe_sum_1000_min_price_avg','cafe_sum_1000_max_price_avg',\n",
    "                'cafe_count_1000_price_2500','cafe_count_1500_price_2500','cafe_count_2000_price_2500','cafe_count_3000_price_2500',\n",
    "                'cafe_count_5000_price_2500','cafe_count_1000_price_4000','cafe_count_1500_price_4000','cafe_count_2000_price_4000',\n",
    "                'cafe_count_3000_price_4000','cafe_count_5000_price_4000','cafe_count_1000_price_500','cafe_count_1500_price_500',\n",
    "                'cafe_count_2000_price_500','cafe_count_3000_price_500','cafe_count_5000_price_500','cafe_count_500_price_high',\n",
    "                'cafe_count_500_price_1000','cafe_count_500_price_1500','cafe_count_500_price_2500','cafe_count_500_price_4000',\n",
    "                'cafe_count_500_na_price','cafe_count_500_price_500','preschool_km','children_preschool','school_education_centers_raion',\n",
    "                'children_school','0_6_male','7_14_male','0_17_male','0_13_male','0_6_female','7_14_female','0_17_female','0_13_female',\n",
    "                'male_f','female_f','0_6_all','7_14_all','0_17_all','0_13_all','full_all','metro_min_walk','metro_min_avto','metro_km_avto',\n",
    "                'railroad_station_avto_min','railroad_station_avto_km','railroad_station_walk_km','railroad_station_avto_min','ID_railroad_station_avto',\n",
    "                'sport_count_500','market_count_1500','market_count_5000','market_count_1000','market_count_2000','market_count_3000',\n",
    "                'office_count_500','work_all','build_count_block','build_count_brick','build_count_monolith','build_count_wood',\n",
    "                'build_count_panel','big_church_count_500','big_church_count_1000','church_count_1000','big_church_count_1500',\n",
    "                'church_count_1500','big_church_count_2000','church_count_2000','big_church_count_3000','big_church_count_5000',\n",
    "                'church_count_5000','church_count_3000','mosque_count_1000','mosque_count_1500','mosque_count_2000','mosque_count_3000',\n",
    "                'mosque_count_5000','green_part_1000','green_part_1500','green_part_500','leisure_count_1500','leisure_count_2000',\n",
    "                'leisure_count_3000','leisure_count_5000','leisure_count_1000','prom_part_1000', 'prom_part_1500','cafe_avg_price_5000',\n",
    "                'provision_doctors','provision_nurse','load_of_teachers_preschool_per_teacher','load_on_doctors','students_reg_sports_share',\n",
    "                'theaters_viewers_per_1000_cap','pop_total_inc','pop_migration','incidence_population', 'population_reg_sports_share',\n",
    "                'old_house_share','hot_water_share','invest_fixed_assets','unprofitable_enterpr_share','share_own_revenues','sewerage_share',\n",
    "                'gas_share', 'electric_stove_share','grp_growth','real_dispos_income_per_cap_growth','gdp_quart_growth',\n",
    "                'retail_trade_turnover_growth','balance_trade_growth','power_transmission_line_km','hospital_bed_occupancy_per_year','rent_price_3room_eco',\n",
    "                'rent_price_1room_bus','rent_price_3room_bus','average_life_exp','eurrub','retail_trade_turnover_per_cap','gdp_quart',\n",
    "                'gdp_deflator', 'gdp_annual','deposits_rate','mortgage_rate','perinatal_mort_per_1000_cap','invest_fixed_capital_per_cap', \n",
    "                'invest_fixed_assets_phys','radiation_km','ts_km','fitness_km','swim_pool_km','ice_rink_km','basketball_km',\n",
    "                'workplaces_km','shopping_centers_km']\n",
    "    df.drop(columns = mult_col, inplace = True)\n",
    "    \n",
    "    # high cardinality\n",
    "    card=['id','sub_area']\n",
    "    df.drop(columns = card, inplace = True)\n",
    "    \n",
    "    # high number of NaN values \n",
    "    large_nan =['child_on_acc_pre_school','provision_retail_space_modern_sqm','provision_retail_space_sqm','museum_visitis_per_100_cap','hospital_beds_raion']\n",
    "    \n",
    "    df.drop(columns = large_nan, inplace = True)\n",
    "    \n",
    "    \n",
    "    # removing outliers \n",
    "    low,high = df.metro_km_walk.quantile([0.1,0.9])\n",
    "    df = df[df['metro_km_walk'].between(low,high)]\n",
    "    \n",
    "    low_state,high_state = df.state.quantile([0.1,0.99])\n",
    "    df = df[df['state'].between(low_state,high_state)]\n",
    "    \n",
    "    low_price,high_price = df.cafe_avg_price_1000.quantile([0.1,0.99])\n",
    "    df = df[df['cafe_avg_price_1000'].between(low_price,high_price)]\n",
    "    \n",
    "    \n",
    "    low_price1,high_price1 = df.cafe_avg_price_2000.quantile([0.1,0.99])\n",
    "    df = df[df['cafe_avg_price_2000'].between(low_price,high_price)]\n",
    "    \n",
    "    small_size,large_size = df.life_sq.quantile([0.1,0.99])\n",
    "    df = df[df['life_sq'].between(small_size,large_size)]\n",
    "    \n",
    "    # filling NaN values \n",
    "    num_mode = df['num_room'].mode()[0]\n",
    "    df['num_room'].fillna(num_mode,inplace=True)\n",
    "    \n",
    "    n_build = df['build_count_1971-1995'].interpolate()\n",
    "    df['build_count_1971-1995'].fillna(n_build,inplace=True)\n",
    "    \n",
    "    # Seperating the features into relevant and irrelevant based on their correlation with target variable\n",
    "    # relevant features are the features with a correlation of 0.2 with the target variable\n",
    "    corr_d = {}\n",
    "    for column in df.drop(columns='price_doc').select_dtypes('number').columns:\n",
    "        corr_d[column]= df[[column]].corrwith(df['price_doc'])\n",
    "    relevant=[]\n",
    "    irrelevant =[]\n",
    "    for i in corr_d.keys():\n",
    "        if abs(corr_d[i][0]) > 0.2:\n",
    "            relevant.append(i)\n",
    "        else:\n",
    "            irrelevant.append(i)\n",
    "    \n",
    "    # drop the irrelevant columns \n",
    "    \n",
    "    df.drop(columns= irrelevant,inplace=True)\n",
    "    \n",
    "    #dropping categorical features with p-value lesser than 0.05\n",
    "    \n",
    "    cat_irr = ['product_type','railroad_1line','thermal_power_plant_raion','nuclear_reactor_raion','water_1line','big_road1_1line','detention_facility_raion']\n",
    "    df.drop(columns = cat_irr,inplace= True)\n",
    "   \n",
    "    #Encoding Categorical variables\n",
    "    \n",
    "    #Non- ordinal features\n",
    "    df = pd.get_dummies(df,columns=['culture_objects_top_25','incineration_raion','oil_chemistry_raion',\n",
    "                                'radiation_raion','railroad_terminal_raion','big_market_raion'],drop_first=True)\n",
    "    \n",
    "    #ordinal features\n",
    "    mask_eco = {'excellent':4,'satisfactory':3,'good':2,'poor':1,'no data':0}\n",
    "    df['ecology'] = df['ecology'].replace(mask_eco)\n",
    "    \n",
    "    mask_mod_edu = {'90,92':2,'93,08':1,'95,4918':0}\n",
    "    df['modern_education_share'] = df['modern_education_share'].replace(mask_mod_edu)\n",
    "    \n",
    "    mask_old_edu = {'23,14':2,'25,47':1,'8,2517':0}\n",
    "    df['old_education_build_share'] = df['old_education_build_share'].replace(mask_old_edu)\n",
    "    \n",
    "    # Extract months out of the timestamp and split it based on seasons\n",
    "    \n",
    "    df['month'] = df['timestamp'].str.split('-',expand=True)[1].astype(float)\n",
    "    \n",
    "    df.loc[(df['month'] >= 3) & (df['month']<= 5) ,'season'] = 'spring'\n",
    "    df.loc[(df['month'] >= 6) & (df['month']<= 8) ,'season'] = 'summer'\n",
    "    df.loc[(df['month'] >= 9) & (df['month']<= 11) ,'season'] = 'fall'\n",
    "    df.loc[(df['month'] == 12) | (df['month']<= 2) ,'season'] = 'winter'\n",
    "    \n",
    "    mask_season = {'winter':4,'fall': 3,'summer':2,'spring':1}\n",
    "    df['season'] = df['season'].replace(mask_season)\n",
    "    \n",
    "    df.drop(columns=['timestamp','month'],inplace = True)\n",
    "    \n",
    "    \n",
    "    \n",
    "    return df"
   ]
  },
  {
   "cell_type": "markdown",
   "id": "c53dc3d6",
   "metadata": {},
   "source": [
    "## Loading data and Investigation"
   ]
  },
  {
   "cell_type": "code",
   "execution_count": 3,
   "id": "b05d5dbc",
   "metadata": {},
   "outputs": [],
   "source": [
    "df = wrangle('train.csv')"
   ]
  },
  {
   "cell_type": "code",
   "execution_count": 4,
   "id": "ca15ac85",
   "metadata": {},
   "outputs": [
    {
     "data": {
      "text/plain": [
       "(8826, 14)"
      ]
     },
     "execution_count": 4,
     "metadata": {},
     "output_type": "execute_result"
    }
   ],
   "source": [
    "df.shape"
   ]
  },
  {
   "cell_type": "code",
   "execution_count": 5,
   "id": "a1eef0df",
   "metadata": {},
   "outputs": [
    {
     "name": "stdout",
     "output_type": "stream",
     "text": [
      "<class 'pandas.core.frame.DataFrame'>\n",
      "Int64Index: 8826 entries, 8135 to 30469\n",
      "Data columns (total 14 columns):\n",
      " #   Column                       Non-Null Count  Dtype  \n",
      "---  ------                       --------------  -----  \n",
      " 0   full_sq                      8826 non-null   int64  \n",
      " 1   life_sq                      8826 non-null   float64\n",
      " 2   num_room                     8826 non-null   float64\n",
      " 3   ecology                      8826 non-null   int64  \n",
      " 4   price_doc                    8826 non-null   int64  \n",
      " 5   modern_education_share       8826 non-null   int64  \n",
      " 6   old_education_build_share    8826 non-null   int64  \n",
      " 7   culture_objects_top_25_yes   8826 non-null   uint8  \n",
      " 8   incineration_raion_yes       8826 non-null   uint8  \n",
      " 9   oil_chemistry_raion_yes      8826 non-null   uint8  \n",
      " 10  radiation_raion_yes          8826 non-null   uint8  \n",
      " 11  railroad_terminal_raion_yes  8826 non-null   uint8  \n",
      " 12  big_market_raion_yes         8826 non-null   uint8  \n",
      " 13  season                       8826 non-null   int64  \n",
      "dtypes: float64(2), int64(6), uint8(6)\n",
      "memory usage: 672.3 KB\n"
     ]
    }
   ],
   "source": [
    "df.info()"
   ]
  },
  {
   "cell_type": "code",
   "execution_count": 6,
   "id": "4aa60fce",
   "metadata": {},
   "outputs": [
    {
     "data": {
      "text/html": [
       "<div>\n",
       "<style scoped>\n",
       "    .dataframe tbody tr th:only-of-type {\n",
       "        vertical-align: middle;\n",
       "    }\n",
       "\n",
       "    .dataframe tbody tr th {\n",
       "        vertical-align: top;\n",
       "    }\n",
       "\n",
       "    .dataframe thead th {\n",
       "        text-align: right;\n",
       "    }\n",
       "</style>\n",
       "<table border=\"1\" class=\"dataframe\">\n",
       "  <thead>\n",
       "    <tr style=\"text-align: right;\">\n",
       "      <th></th>\n",
       "      <th>full_sq</th>\n",
       "      <th>life_sq</th>\n",
       "      <th>num_room</th>\n",
       "      <th>ecology</th>\n",
       "      <th>price_doc</th>\n",
       "      <th>modern_education_share</th>\n",
       "      <th>old_education_build_share</th>\n",
       "      <th>culture_objects_top_25_yes</th>\n",
       "      <th>incineration_raion_yes</th>\n",
       "      <th>oil_chemistry_raion_yes</th>\n",
       "      <th>radiation_raion_yes</th>\n",
       "      <th>railroad_terminal_raion_yes</th>\n",
       "      <th>big_market_raion_yes</th>\n",
       "      <th>season</th>\n",
       "    </tr>\n",
       "  </thead>\n",
       "  <tbody>\n",
       "    <tr>\n",
       "      <th>8135</th>\n",
       "      <td>53</td>\n",
       "      <td>30.0</td>\n",
       "      <td>2.0</td>\n",
       "      <td>1</td>\n",
       "      <td>9000000</td>\n",
       "      <td>2</td>\n",
       "      <td>2</td>\n",
       "      <td>0</td>\n",
       "      <td>0</td>\n",
       "      <td>0</td>\n",
       "      <td>1</td>\n",
       "      <td>0</td>\n",
       "      <td>0</td>\n",
       "      <td>1</td>\n",
       "    </tr>\n",
       "    <tr>\n",
       "      <th>8154</th>\n",
       "      <td>45</td>\n",
       "      <td>27.0</td>\n",
       "      <td>2.0</td>\n",
       "      <td>2</td>\n",
       "      <td>7100000</td>\n",
       "      <td>2</td>\n",
       "      <td>2</td>\n",
       "      <td>0</td>\n",
       "      <td>0</td>\n",
       "      <td>0</td>\n",
       "      <td>0</td>\n",
       "      <td>0</td>\n",
       "      <td>0</td>\n",
       "      <td>1</td>\n",
       "    </tr>\n",
       "    <tr>\n",
       "      <th>8255</th>\n",
       "      <td>74</td>\n",
       "      <td>46.0</td>\n",
       "      <td>3.0</td>\n",
       "      <td>2</td>\n",
       "      <td>12100000</td>\n",
       "      <td>2</td>\n",
       "      <td>2</td>\n",
       "      <td>0</td>\n",
       "      <td>0</td>\n",
       "      <td>0</td>\n",
       "      <td>0</td>\n",
       "      <td>0</td>\n",
       "      <td>0</td>\n",
       "      <td>1</td>\n",
       "    </tr>\n",
       "    <tr>\n",
       "      <th>8287</th>\n",
       "      <td>77</td>\n",
       "      <td>50.0</td>\n",
       "      <td>3.0</td>\n",
       "      <td>1</td>\n",
       "      <td>11700000</td>\n",
       "      <td>2</td>\n",
       "      <td>2</td>\n",
       "      <td>0</td>\n",
       "      <td>0</td>\n",
       "      <td>0</td>\n",
       "      <td>0</td>\n",
       "      <td>0</td>\n",
       "      <td>0</td>\n",
       "      <td>2</td>\n",
       "    </tr>\n",
       "    <tr>\n",
       "      <th>8350</th>\n",
       "      <td>43</td>\n",
       "      <td>29.0</td>\n",
       "      <td>2.0</td>\n",
       "      <td>1</td>\n",
       "      <td>6400000</td>\n",
       "      <td>2</td>\n",
       "      <td>2</td>\n",
       "      <td>0</td>\n",
       "      <td>0</td>\n",
       "      <td>0</td>\n",
       "      <td>0</td>\n",
       "      <td>0</td>\n",
       "      <td>0</td>\n",
       "      <td>2</td>\n",
       "    </tr>\n",
       "  </tbody>\n",
       "</table>\n",
       "</div>"
      ],
      "text/plain": [
       "      full_sq  life_sq  num_room  ecology  price_doc  modern_education_share  \\\n",
       "8135       53     30.0       2.0        1    9000000                       2   \n",
       "8154       45     27.0       2.0        2    7100000                       2   \n",
       "8255       74     46.0       3.0        2   12100000                       2   \n",
       "8287       77     50.0       3.0        1   11700000                       2   \n",
       "8350       43     29.0       2.0        1    6400000                       2   \n",
       "\n",
       "      old_education_build_share  culture_objects_top_25_yes  \\\n",
       "8135                          2                           0   \n",
       "8154                          2                           0   \n",
       "8255                          2                           0   \n",
       "8287                          2                           0   \n",
       "8350                          2                           0   \n",
       "\n",
       "      incineration_raion_yes  oil_chemistry_raion_yes  radiation_raion_yes  \\\n",
       "8135                       0                        0                    1   \n",
       "8154                       0                        0                    0   \n",
       "8255                       0                        0                    0   \n",
       "8287                       0                        0                    0   \n",
       "8350                       0                        0                    0   \n",
       "\n",
       "      railroad_terminal_raion_yes  big_market_raion_yes  season  \n",
       "8135                            0                     0       1  \n",
       "8154                            0                     0       1  \n",
       "8255                            0                     0       1  \n",
       "8287                            0                     0       2  \n",
       "8350                            0                     0       2  "
      ]
     },
     "execution_count": 6,
     "metadata": {},
     "output_type": "execute_result"
    }
   ],
   "source": [
    "df.head()"
   ]
  },
  {
   "cell_type": "markdown",
   "id": "8721b70f",
   "metadata": {},
   "source": [
    "## Building the Model "
   ]
  },
  {
   "cell_type": "markdown",
   "id": "613650d9",
   "metadata": {},
   "source": [
    "### Splitting the data into training and testing data set"
   ]
  },
  {
   "cell_type": "code",
   "execution_count": 7,
   "id": "361ebe1f",
   "metadata": {},
   "outputs": [],
   "source": [
    "X = df.drop(columns= ['price_doc'])\n",
    "y = df['price_doc']\n",
    "X_train,X_test,y_train,y_test = train_test_split(X,y,test_size=0.2,random_state=42)"
   ]
  },
  {
   "cell_type": "markdown",
   "id": "8b286f6d",
   "metadata": {},
   "source": [
    "### Baseline model"
   ]
  },
  {
   "cell_type": "code",
   "execution_count": 8,
   "id": "8ea070d6",
   "metadata": {},
   "outputs": [],
   "source": [
    "y_mean = y.mean()\n",
    "y_pred_baseline =[y_mean for i in range(len(y))]"
   ]
  },
  {
   "cell_type": "markdown",
   "id": "e84e2b86",
   "metadata": {},
   "source": [
    "### Ridge Regression Model Instantiation and Training"
   ]
  },
  {
   "cell_type": "code",
   "execution_count": 9,
   "id": "f950ff06",
   "metadata": {},
   "outputs": [
    {
     "data": {
      "text/plain": [
       "Ridge()"
      ]
     },
     "execution_count": 9,
     "metadata": {},
     "output_type": "execute_result"
    }
   ],
   "source": [
    "model = Ridge()\n",
    "model.fit(X_train,y_train)"
   ]
  },
  {
   "cell_type": "markdown",
   "id": "1c716fbc",
   "metadata": {},
   "source": [
    "### Generating Prediction on the Training and Testing Data "
   ]
  },
  {
   "cell_type": "code",
   "execution_count": 10,
   "id": "77236f4c",
   "metadata": {},
   "outputs": [],
   "source": [
    "y_pred_train = model.predict(X_train)\n",
    "y_pred_test = model.predict(X_test)"
   ]
  },
  {
   "cell_type": "markdown",
   "id": "57693bff",
   "metadata": {},
   "source": [
    "## Model Evaluation"
   ]
  },
  {
   "cell_type": "code",
   "execution_count": 11,
   "id": "5d45618b",
   "metadata": {},
   "outputs": [],
   "source": [
    "from sklearn.metrics import mean_squared_log_error\n",
    "def RMSLE(y_true:np.ndarray, y_pred:np.ndarray):\n",
    "    \"\"\"\n",
    "        The Root Mean Squared Log Error (RMSLE) metric \n",
    "        \n",
    "        :param y_true: The ground truth labels given in the dataset\n",
    "        :param y_pred: Our predictions\n",
    "        :return: The RMSLE score\n",
    "    \"\"\"\n",
    "    return np.sqrt(mean_squared_log_error(y_true, y_pred))"
   ]
  },
  {
   "cell_type": "code",
   "execution_count": 12,
   "id": "a488499a",
   "metadata": {},
   "outputs": [
    {
     "name": "stdout",
     "output_type": "stream",
     "text": [
      "Baseline model RMSLE Value is: 0.6495651381941646\n",
      "Model RMSLE Value on Training data is: 0.5666842306277827\n",
      "Model RMSLE Value on Test data  is: 0.5626317151307871\n"
     ]
    }
   ],
   "source": [
    "print(f'Baseline model RMSLE Value is: {RMSLE(y,y_pred_baseline)}')\n",
    "print(f'Model RMSLE Value on Training data is: {RMSLE(y_train,abs(y_pred_train))}')\n",
    "print(f'Model RMSLE Value on Test data  is: {RMSLE(y_test,abs(y_pred_test))}')"
   ]
  },
  {
   "cell_type": "markdown",
   "id": "6367db8c",
   "metadata": {},
   "source": [
    "#### From the above RMSLE Values it can be deduced that the model is performing better than the Baseline model and there it can be generalized"
   ]
  },
  {
   "cell_type": "markdown",
   "id": "f45ddb46",
   "metadata": {},
   "source": [
    "## Loading the test.csv data "
   ]
  },
  {
   "cell_type": "code",
   "execution_count": 13,
   "id": "4d17467a",
   "metadata": {},
   "outputs": [],
   "source": [
    "column = df.columns"
   ]
  },
  {
   "cell_type": "code",
   "execution_count": 14,
   "id": "a788cbd8",
   "metadata": {},
   "outputs": [],
   "source": [
    "df_test = pd.read_csv('test.csv')"
   ]
  },
  {
   "cell_type": "code",
   "execution_count": 15,
   "id": "8d442084",
   "metadata": {},
   "outputs": [],
   "source": [
    "X = df[column].drop(columns = 'price_doc')\n",
    "y = df['price_doc']"
   ]
  },
  {
   "cell_type": "code",
   "execution_count": 16,
   "id": "3d8bacb3",
   "metadata": {},
   "outputs": [
    {
     "data": {
      "text/plain": [
       "(7662, 291)"
      ]
     },
     "execution_count": 16,
     "metadata": {},
     "output_type": "execute_result"
    }
   ],
   "source": [
    "df_test.shape"
   ]
  },
  {
   "cell_type": "code",
   "execution_count": 17,
   "id": "e5a7d1c4",
   "metadata": {},
   "outputs": [
    {
     "data": {
      "text/plain": [
       "Index(['id', 'timestamp', 'full_sq', 'life_sq', 'floor', 'max_floor',\n",
       "       'material', 'build_year', 'num_room', 'kitch_sq',\n",
       "       ...\n",
       "       'cafe_count_5000_price_1500', 'cafe_count_5000_price_2500',\n",
       "       'cafe_count_5000_price_4000', 'cafe_count_5000_price_high',\n",
       "       'big_church_count_5000', 'church_count_5000', 'mosque_count_5000',\n",
       "       'leisure_count_5000', 'sport_count_5000', 'market_count_5000'],\n",
       "      dtype='object', length=291)"
      ]
     },
     "execution_count": 17,
     "metadata": {},
     "output_type": "execute_result"
    }
   ],
   "source": [
    "df_test.columns"
   ]
  },
  {
   "cell_type": "code",
   "execution_count": 18,
   "id": "0446dcad",
   "metadata": {},
   "outputs": [],
   "source": [
    "prediction = model.predict(X)"
   ]
  },
  {
   "cell_type": "code",
   "execution_count": 19,
   "id": "db473c01",
   "metadata": {},
   "outputs": [
    {
     "data": {
      "text/plain": [
       "0.5658756827623315"
      ]
     },
     "execution_count": 19,
     "metadata": {},
     "output_type": "execute_result"
    }
   ],
   "source": [
    "RMSLE(y,abs(prediction))"
   ]
  },
  {
   "cell_type": "markdown",
   "id": "37db5af8",
   "metadata": {},
   "source": [
    "### Creating the submission file"
   ]
  },
  {
   "cell_type": "code",
   "execution_count": 20,
   "id": "58687344",
   "metadata": {},
   "outputs": [],
   "source": [
    "submission = pd.DataFrame(prediction)"
   ]
  },
  {
   "cell_type": "code",
   "execution_count": 21,
   "id": "c16dc516",
   "metadata": {},
   "outputs": [],
   "source": [
    "submission.to_csv('submission.csv')"
   ]
  },
  {
   "cell_type": "code",
   "execution_count": null,
   "id": "697f2028",
   "metadata": {},
   "outputs": [],
   "source": []
  }
 ],
 "metadata": {
  "kernelspec": {
   "display_name": "Python 3 (ipykernel)",
   "language": "python",
   "name": "python3"
  },
  "language_info": {
   "codemirror_mode": {
    "name": "ipython",
    "version": 3
   },
   "file_extension": ".py",
   "mimetype": "text/x-python",
   "name": "python",
   "nbconvert_exporter": "python",
   "pygments_lexer": "ipython3",
   "version": "3.9.7"
  }
 },
 "nbformat": 4,
 "nbformat_minor": 5
}
