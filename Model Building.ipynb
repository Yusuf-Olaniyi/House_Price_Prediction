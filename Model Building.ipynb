{
 "cells": [
  {
   "cell_type": "markdown",
   "id": "65681991",
   "metadata": {},
   "source": [
    "# Project: Rental Price Prediction\n",
    "\n",
    "## Table of Contents\n",
    "<ul>\n",
    "<li><a href=\"#intro\">Introduction</a></li>\n",
    "<li><a href=\"#description\">Data Description</a></li>\n",
    "<li><a href=\"#library\">Import Library</a></li>\n",
    "<li><a href=\"#wrangling\">Data Wrangling</a></li>\n",
    "<li><a href=\"#analysis\">Statistical Analysis</a></li>\n",
    "<li><a href=\"#model\">Building Model</a></li>\n",
    "<li><a href=\"#eva\">Model Evaluation</a></li>\n",
    "</ul>"
   ]
  },
  {
   "cell_type": "markdown",
   "id": "e1b57365",
   "metadata": {},
   "source": [
    "<a id='intro'></a>\n",
    "## Introduction\n",
    "Housing costs demand a significant investment from both consumers and developers. And when it comes to planning a budget—whether personal or corporate—the last thing anyone needs is uncertainty about one of their biggets expenses. \n",
    "\n",
    "Soviet bank, Russland’s oldest and largest bank, helps their customers by making predictions about realty prices so renters, developers, and lenders are more confident when they sign a lease or purchase a building.\n",
    "\n",
    "Although the housing market is relatively stable in Russland, the country’s volatile economy makes forecasting prices as a function of apartment characteristics a unique challenge. Complex interactions between housing features such as number of bedrooms and location are enough to make pricing predictions complicated. Adding an unstable economy to the mix means Soviet bank and their customers need more than simple regression models in their arsenal.\n",
    "\n"
   ]
  },
  {
   "cell_type": "markdown",
   "id": "bfa4ff45",
   "metadata": {},
   "source": [
    "<a id='description'></a>\n",
    "## Data Description\n",
    "Check the data description document"
   ]
  },
  {
   "cell_type": "markdown",
   "id": "2ab842e5",
   "metadata": {},
   "source": [
    "<a id='library'></a>\n",
    "## Import Library\n"
   ]
  },
  {
   "cell_type": "code",
   "execution_count": 68,
   "id": "246ceed8",
   "metadata": {},
   "outputs": [],
   "source": [
    "import re\n",
    "\n",
    "import matplotlib.pyplot as plt\n",
    "import seaborn as sns\n",
    "import missingno as msno \n",
    "\n",
    "import pandas as pd\n",
    "import numpy as np\n",
    "import scipy.stats\n",
    "\n",
    "import sklearn.preprocessing as preproc\n",
    "from sklearn.model_selection import train_test_split\n",
    "\n",
    "from sklearn.linear_model import Ridge\n",
    "from sklearn.impute import SimpleImputer\n",
    "from sklearn.pipeline import make_pipeline\n",
    "from sklearn.model_selection import GridSearchCV"
   ]
  },
  {
   "cell_type": "markdown",
   "id": "ff79b72f",
   "metadata": {},
   "source": [
    "<a id='wrangling'></a>\n",
    "# Data Wrangling"
   ]
  },
  {
   "cell_type": "code",
   "execution_count": 69,
   "id": "4cd9f771",
   "metadata": {},
   "outputs": [],
   "source": [
    "df = pd.read_csv('train.csv')\n",
    "  \n",
    "d = pd.read_csv('macro.csv')\n",
    "df = pd.merge(df,d,how = 'inner',on = 'timestamp')"
   ]
  },
  {
   "cell_type": "code",
   "execution_count": 70,
   "id": "4d06b6fd",
   "metadata": {},
   "outputs": [
    {
     "data": {
      "text/plain": [
       "(30471, 391)"
      ]
     },
     "execution_count": 70,
     "metadata": {},
     "output_type": "execute_result"
    }
   ],
   "source": [
    "df.shape"
   ]
  },
  {
   "cell_type": "code",
   "execution_count": 71,
   "id": "fb61b009",
   "metadata": {
    "scrolled": false
   },
   "outputs": [
    {
     "data": {
      "text/plain": [
       "id                                   30471\n",
       "big_road2_km                         11852\n",
       "exhibition_km                        11852\n",
       "museum_km                            11852\n",
       "mosque_km                            11852\n",
       "                                     ...  \n",
       "baths_share                              2\n",
       "water_pipes_share                        2\n",
       "big_road1_1line                          2\n",
       "mosque_count_1000                        2\n",
       "provision_retail_space_modern_sqm        1\n",
       "Length: 391, dtype: int64"
      ]
     },
     "execution_count": 71,
     "metadata": {},
     "output_type": "execute_result"
    }
   ],
   "source": [
    "df.nunique().sort_values(ascending=False)"
   ]
  },
  {
   "cell_type": "markdown",
   "id": "d79b64e2",
   "metadata": {},
   "source": [
    "### id has high cardinality"
   ]
  },
  {
   "cell_type": "code",
   "execution_count": 72,
   "id": "43cd512f",
   "metadata": {},
   "outputs": [],
   "source": [
    "df.drop(columns='id',inplace=True)"
   ]
  },
  {
   "cell_type": "markdown",
   "id": "7ca1163c",
   "metadata": {},
   "source": [
    "### Remove columns with high multicolinearity"
   ]
  },
  {
   "cell_type": "code",
   "execution_count": 73,
   "id": "9b0aaa23",
   "metadata": {},
   "outputs": [],
   "source": [
    "def chk_multicollinearity(reg_exp,df=df,threshold=.5):\n",
    "    \"\"\"\n",
    "    Remove columns exhibiting multicollinearity based on regular expression pattern.\n",
    "\n",
    "    Parameters:\n",
    "    reg_exp (str): Regular expression pattern to match column names.\n",
    "    df (pd.DataFrame): Input DataFrame containing numeric columns.\n",
    "    threshold (float, optional): Threshold for determining multicollinearity (default is 0.5).\n",
    "\n",
    "    Returns:\n",
    "    pd.DataFrame: DataFrame with multicollinear columns removed.\n",
    "    \n",
    "    This function identifies columns in the input DataFrame `df` with names matching the provided\n",
    "    regular expression pattern `reg_exp`. For each identified column, it computes the correlation\n",
    "    coefficient with the first column found, and if the correlation coefficient is greater than the\n",
    "    specified `threshold`, the column is considered multicollinear and removed from the DataFrame.\n",
    "    The modified DataFrame without the multicollinear columns is returned.\n",
    "    \"\"\"\n",
    "    columns = []\n",
    "    \n",
    "    #get the columns that has regular expressions\n",
    "    for col in df.select_dtypes('number').columns:\n",
    "        if re.search(reg_exp,col):\n",
    "            columns.append(col)\n",
    "    \n",
    "    # get columns with multicolinearity\n",
    "    mul_col = []\n",
    "    for column in columns:\n",
    "        corr = df[column].corr(df[columns[0]]) \n",
    "        if corr > threshold:\n",
    "            mul_col.append(column)\n",
    "            \n",
    "    #drop columns\n",
    "    df.drop(columns=mul_col,inplace=True)\n",
    "   \n",
    "    return df"
   ]
  },
  {
   "cell_type": "code",
   "execution_count": 74,
   "id": "3a115bb5",
   "metadata": {},
   "outputs": [],
   "source": [
    "df = chk_multicollinearity('^cafe_s',df)"
   ]
  },
  {
   "cell_type": "code",
   "execution_count": 75,
   "id": "b656e95c",
   "metadata": {},
   "outputs": [],
   "source": [
    "df = chk_multicollinearity('^cafe_c',df)\n",
    "df = chk_multicollinearity('^cafe_a',df)"
   ]
  },
  {
   "cell_type": "code",
   "execution_count": null,
   "id": "e7f9484e",
   "metadata": {},
   "outputs": [],
   "source": [
    "df = chk_multicollinearity('^office',df)\n",
    "df =chk_multicollinearity('^trc',df)\n",
    "df =chk_multicollinearity('church',df)\n",
    "df =chk_multicollinearity('mosque',df)\n",
    "df =chk_multicollinearity('school',df)\n",
    "df =chk_multicollinearity('leisure',df)\n",
    "df =chk_multicollinearity('market',df)\n",
    "df =chk_multicollinearity('sport',df)\n",
    "df =chk_multicollinearity('prom',df)\n",
    "df =chk_multicollinearity('rail',df)\n",
    "df =chk_multicollinearity('block',df)\n",
    "df =chk_multicollinearity('brick',df)\n",
    "df =chk_multicollinearity('slag',df)\n",
    "df =chk_multicollinearity('mix',df)\n",
    "df =chk_multicollinearity('provision',df)\n",
    "df =chk_multicollinearity('_male',df)\n",
    "df =chk_multicollinearity('_female',df)\n",
    "df =chk_multicollinearity('female',df)\n",
    "df =chk_multicollinearity('male',df)\n",
    "df =chk_multicollinearity('green',df)\n",
    "df =chk_multicollinearity('rent',df)\n",
    "df =chk_multicollinearity('build_count',df)\n",
    "df =chk_multicollinearity('metro',df)\n",
    "df = chk_multicollinearity('rent',df)"
   ]
  },
  {
   "cell_type": "code",
   "execution_count": null,
   "id": "95191665",
   "metadata": {},
   "outputs": [],
   "source": [
    "df.columns"
   ]
  },
  {
   "cell_type": "markdown",
   "id": "a96f7745",
   "metadata": {},
   "source": [
    "### Remove columns with more than 50% null value"
   ]
  },
  {
   "cell_type": "code",
   "execution_count": null,
   "id": "a08aaf0b",
   "metadata": {},
   "outputs": [],
   "source": [
    "def drop_null(df,threshold=.5):\n",
    "    \"\"\"\n",
    "    Drop features from the DataFrame with missing values exceeding a specified threshold.\n",
    "\n",
    "    Parameters:\n",
    "    df (pd.DataFrame): Input DataFrame.\n",
    "    threshold (float, optional): Threshold for missing values (default is 0.5).\n",
    "\n",
    "    Returns:\n",
    "    pd.DataFrame: DataFrame with features having missing values below the specified threshold.\n",
    "    \n",
    "    This function removes columns from the input DataFrame `df` where the percentage of missing\n",
    "    values exceeds the specified `threshold`. Columns with missing values greater than the product\n",
    "    of `threshold` and the total number of rows are considered, and these columns are dropped from\n",
    "    the DataFrame. The modified DataFrame with features having missing values below the threshold\n",
    "    is returned.\n",
    "    \"\"\"\n",
    "    rows = df.shape[0]\n",
    "    large_null = []\n",
    "    for col in df.columns:\n",
    "        missing = df[col].isnull().sum() \n",
    "        if missing > rows * threshold:\n",
    "            large_null.append(col)\n",
    "    df.drop(columns=large_null,inplace=True)\n",
    "    return df"
   ]
  },
  {
   "cell_type": "code",
   "execution_count": 14,
   "id": "addab148",
   "metadata": {
    "scrolled": true
   },
   "outputs": [],
   "source": [
    "df = drop_null(df)"
   ]
  },
  {
   "cell_type": "markdown",
   "id": "6ad03296",
   "metadata": {},
   "source": [
    "### Checking missing values further"
   ]
  },
  {
   "cell_type": "code",
   "execution_count": 65,
   "id": "435a0d01",
   "metadata": {},
   "outputs": [
    {
     "data": {
      "text/plain": [
       "max_floor       0\n",
       "material        0\n",
       "build_year      0\n",
       "num_room        0\n",
       "kitch_sq        0\n",
       "state         119\n",
       "dtype: int64"
      ]
     },
     "execution_count": 65,
     "metadata": {},
     "output_type": "execute_result"
    }
   ],
   "source": [
    "df[['max_floor', 'material','build_year', 'num_room', 'kitch_sq', 'state']].isnull().sum()"
   ]
  },
  {
   "cell_type": "code",
   "execution_count": 66,
   "id": "4c191e6d",
   "metadata": {
    "scrolled": false
   },
   "outputs": [
    {
     "data": {
      "text/html": [
       "<div>\n",
       "<style scoped>\n",
       "    .dataframe tbody tr th:only-of-type {\n",
       "        vertical-align: middle;\n",
       "    }\n",
       "\n",
       "    .dataframe tbody tr th {\n",
       "        vertical-align: top;\n",
       "    }\n",
       "\n",
       "    .dataframe thead th {\n",
       "        text-align: right;\n",
       "    }\n",
       "</style>\n",
       "<table border=\"1\" class=\"dataframe\">\n",
       "  <thead>\n",
       "    <tr style=\"text-align: right;\">\n",
       "      <th></th>\n",
       "      <th>full_sq</th>\n",
       "      <th>life_sq</th>\n",
       "      <th>floor</th>\n",
       "      <th>max_floor</th>\n",
       "      <th>material</th>\n",
       "      <th>build_year</th>\n",
       "      <th>num_room</th>\n",
       "      <th>kitch_sq</th>\n",
       "      <th>state</th>\n",
       "      <th>area_m</th>\n",
       "      <th>...</th>\n",
       "      <th>radiation_raion_yes</th>\n",
       "      <th>big_market_raion_yes</th>\n",
       "      <th>nuclear_reactor_raion_yes</th>\n",
       "      <th>detention_facility_raion_yes</th>\n",
       "      <th>water_1line_yes</th>\n",
       "      <th>big_road1_1line_yes</th>\n",
       "      <th>railroad_1line_yes</th>\n",
       "      <th>ecology_good</th>\n",
       "      <th>ecology_poor</th>\n",
       "      <th>ecology_satisfactory</th>\n",
       "    </tr>\n",
       "  </thead>\n",
       "  <tbody>\n",
       "    <tr>\n",
       "      <th>8154</th>\n",
       "      <td>45</td>\n",
       "      <td>27.0</td>\n",
       "      <td>6.0</td>\n",
       "      <td>9.0</td>\n",
       "      <td>1.0</td>\n",
       "      <td>1970.0</td>\n",
       "      <td>2.0</td>\n",
       "      <td>6.0</td>\n",
       "      <td>3.0</td>\n",
       "      <td>8889466.752</td>\n",
       "      <td>...</td>\n",
       "      <td>0</td>\n",
       "      <td>0</td>\n",
       "      <td>0</td>\n",
       "      <td>0</td>\n",
       "      <td>0</td>\n",
       "      <td>0</td>\n",
       "      <td>0</td>\n",
       "      <td>1</td>\n",
       "      <td>0</td>\n",
       "      <td>0</td>\n",
       "    </tr>\n",
       "    <tr>\n",
       "      <th>8381</th>\n",
       "      <td>52</td>\n",
       "      <td>33.0</td>\n",
       "      <td>13.0</td>\n",
       "      <td>25.0</td>\n",
       "      <td>2.0</td>\n",
       "      <td>2004.0</td>\n",
       "      <td>2.0</td>\n",
       "      <td>7.0</td>\n",
       "      <td>NaN</td>\n",
       "      <td>7963518.819</td>\n",
       "      <td>...</td>\n",
       "      <td>1</td>\n",
       "      <td>0</td>\n",
       "      <td>1</td>\n",
       "      <td>0</td>\n",
       "      <td>0</td>\n",
       "      <td>0</td>\n",
       "      <td>0</td>\n",
       "      <td>0</td>\n",
       "      <td>0</td>\n",
       "      <td>1</td>\n",
       "    </tr>\n",
       "    <tr>\n",
       "      <th>8423</th>\n",
       "      <td>46</td>\n",
       "      <td>29.0</td>\n",
       "      <td>9.0</td>\n",
       "      <td>9.0</td>\n",
       "      <td>2.0</td>\n",
       "      <td>1969.0</td>\n",
       "      <td>2.0</td>\n",
       "      <td>5.0</td>\n",
       "      <td>3.0</td>\n",
       "      <td>7126815.285</td>\n",
       "      <td>...</td>\n",
       "      <td>0</td>\n",
       "      <td>0</td>\n",
       "      <td>1</td>\n",
       "      <td>0</td>\n",
       "      <td>0</td>\n",
       "      <td>0</td>\n",
       "      <td>0</td>\n",
       "      <td>0</td>\n",
       "      <td>1</td>\n",
       "      <td>0</td>\n",
       "    </tr>\n",
       "    <tr>\n",
       "      <th>8427</th>\n",
       "      <td>45</td>\n",
       "      <td>29.0</td>\n",
       "      <td>2.0</td>\n",
       "      <td>9.0</td>\n",
       "      <td>1.0</td>\n",
       "      <td>1972.0</td>\n",
       "      <td>2.0</td>\n",
       "      <td>6.0</td>\n",
       "      <td>3.0</td>\n",
       "      <td>7811375.434</td>\n",
       "      <td>...</td>\n",
       "      <td>1</td>\n",
       "      <td>0</td>\n",
       "      <td>0</td>\n",
       "      <td>0</td>\n",
       "      <td>0</td>\n",
       "      <td>0</td>\n",
       "      <td>0</td>\n",
       "      <td>0</td>\n",
       "      <td>0</td>\n",
       "      <td>1</td>\n",
       "    </tr>\n",
       "    <tr>\n",
       "      <th>8563</th>\n",
       "      <td>46</td>\n",
       "      <td>45.0</td>\n",
       "      <td>5.0</td>\n",
       "      <td>5.0</td>\n",
       "      <td>1.0</td>\n",
       "      <td>1967.0</td>\n",
       "      <td>2.0</td>\n",
       "      <td>5.0</td>\n",
       "      <td>3.0</td>\n",
       "      <td>8841267.454</td>\n",
       "      <td>...</td>\n",
       "      <td>0</td>\n",
       "      <td>0</td>\n",
       "      <td>1</td>\n",
       "      <td>0</td>\n",
       "      <td>0</td>\n",
       "      <td>0</td>\n",
       "      <td>0</td>\n",
       "      <td>0</td>\n",
       "      <td>1</td>\n",
       "      <td>0</td>\n",
       "    </tr>\n",
       "  </tbody>\n",
       "</table>\n",
       "<p>5 rows × 270 columns</p>\n",
       "</div>"
      ],
      "text/plain": [
       "      full_sq  life_sq  floor  max_floor  material  build_year  num_room  \\\n",
       "8154       45     27.0    6.0        9.0       1.0      1970.0       2.0   \n",
       "8381       52     33.0   13.0       25.0       2.0      2004.0       2.0   \n",
       "8423       46     29.0    9.0        9.0       2.0      1969.0       2.0   \n",
       "8427       45     29.0    2.0        9.0       1.0      1972.0       2.0   \n",
       "8563       46     45.0    5.0        5.0       1.0      1967.0       2.0   \n",
       "\n",
       "      kitch_sq  state       area_m  ...  radiation_raion_yes  \\\n",
       "8154       6.0    3.0  8889466.752  ...                    0   \n",
       "8381       7.0    NaN  7963518.819  ...                    1   \n",
       "8423       5.0    3.0  7126815.285  ...                    0   \n",
       "8427       6.0    3.0  7811375.434  ...                    1   \n",
       "8563       5.0    3.0  8841267.454  ...                    0   \n",
       "\n",
       "      big_market_raion_yes  nuclear_reactor_raion_yes  \\\n",
       "8154                     0                          0   \n",
       "8381                     0                          1   \n",
       "8423                     0                          1   \n",
       "8427                     0                          0   \n",
       "8563                     0                          1   \n",
       "\n",
       "      detention_facility_raion_yes  water_1line_yes  big_road1_1line_yes  \\\n",
       "8154                             0                0                    0   \n",
       "8381                             0                0                    0   \n",
       "8423                             0                0                    0   \n",
       "8427                             0                0                    0   \n",
       "8563                             0                0                    0   \n",
       "\n",
       "      railroad_1line_yes  ecology_good  ecology_poor  ecology_satisfactory  \n",
       "8154                   0             1             0                     0  \n",
       "8381                   0             0             0                     1  \n",
       "8423                   0             0             1                     0  \n",
       "8427                   0             0             0                     1  \n",
       "8563                   0             0             1                     0  \n",
       "\n",
       "[5 rows x 270 columns]"
      ]
     },
     "execution_count": 66,
     "metadata": {},
     "output_type": "execute_result"
    }
   ],
   "source": [
    "df.head()"
   ]
  },
  {
   "cell_type": "code",
   "execution_count": 67,
   "id": "81eddb13",
   "metadata": {
    "scrolled": true
   },
   "outputs": [
    {
     "data": {
      "text/plain": [
       "<Axes: >"
      ]
     },
     "execution_count": 67,
     "metadata": {},
     "output_type": "execute_result"
    },
    {
     "data": {
      "image/png": "[encoded data removed]",
      "text/plain": [
       "<Figure size 2500x1000 with 2 Axes>"
      ]
     },
     "metadata": {},
     "output_type": "display_data"
    }
   ],
   "source": [
    "msno.matrix(df[['max_floor', 'material','build_year', 'num_room', 'kitch_sq', 'state']])"
   ]
  },
  {
   "cell_type": "code",
   "execution_count": 19,
   "id": "bbcecfec",
   "metadata": {},
   "outputs": [],
   "source": [
    "def plot_msno(column,df=df):\n",
    "    \n",
    "    \"\"\"\n",
    "    Visualize missing data pattern for a specific column in the DataFrame using Missingno library.\n",
    "\n",
    "    Parameters:\n",
    "    column (str): The column name for which missing data visualization is required.\n",
    "    df (pd.DataFrame): Input DataFrame containing the specified column.\n",
    "\n",
    "    Returns:\n",
    "    list: List of indices with missing values in the specified column.\n",
    "    \n",
    "    This function takes a DataFrame `df` and a specific column name `column` as input. It creates a\n",
    "    Missingno matrix visualization, highlighting missing data patterns for the specified column. The\n",
    "    function also returns a list of indices where the specified column has missing values, allowing\n",
    "    further analysis or handling of these missing values.\n",
    "    \"\"\"\n",
    "    \n",
    "    emp = df[df[column].isnull()].index\n",
    "    msno.matrix(df.drop(index=emp))\n",
    "    \n",
    "    return emp"
   ]
  },
  {
   "cell_type": "code",
   "execution_count": null,
   "id": "c3b2ae18",
   "metadata": {},
   "outputs": [],
   "source": []
  },
  {
   "cell_type": "code",
   "execution_count": 20,
   "id": "01e9917d",
   "metadata": {
    "scrolled": true
   },
   "outputs": [
    {
     "data": {
      "image/png": "[encoded data removed]",
      "text/plain": [
       "<Figure size 2500x1000 with 2 Axes>"
      ]
     },
     "metadata": {},
     "output_type": "display_data"
    }
   ],
   "source": [
    "emp_year = plot_msno('build_year')"
   ]
  },
  {
   "cell_type": "code",
   "execution_count": 21,
   "id": "5cf13e11",
   "metadata": {},
   "outputs": [],
   "source": [
    "df = df.drop(index=emp_year)"
   ]
  },
  {
   "cell_type": "code",
   "execution_count": 22,
   "id": "d799730a",
   "metadata": {},
   "outputs": [
    {
     "data": {
      "image/png": "[encoded data removed]",
      "text/plain": [
       "<Figure size 2500x1000 with 2 Axes>"
      ]
     },
     "metadata": {},
     "output_type": "display_data"
    }
   ],
   "source": [
    "emp_hos = plot_msno('hospital_beds_raion',df=df)\n",
    "df = df.drop(index=emp_hos)"
   ]
  },
  {
   "cell_type": "code",
   "execution_count": 23,
   "id": "cd07734f",
   "metadata": {},
   "outputs": [
    {
     "data": {
      "text/plain": [
       "child_on_acc_pre_school              1429\n",
       "divorce_rate                         1429\n",
       "overdue_wages_per_cap                1429\n",
       "construction_value                   1429\n",
       "fin_res_per_cap                      1429\n",
       "marriages_per_1000_cap               1429\n",
       "incidence_population                 1429\n",
       "perinatal_mort_per_1000_cap          1429\n",
       "infant_mortarity_per_1000_cap        1429\n",
       "old_house_share                      1429\n",
       "unprofitable_enterpr_share           1429\n",
       "heating_share                        1429\n",
       "electric_stove_share                 1429\n",
       "hot_water_share                      1429\n",
       "gas_share                            1429\n",
       "sewerage_share                       1429\n",
       "baths_share                          1429\n",
       "water_pipes_share                    1429\n",
       "share_own_revenues                   1429\n",
       "lodging_sqm_per_cap                  1429\n",
       "housing_fund_sqm                     1429\n",
       "power_clinics                        1429\n",
       "apartment_build                      1429\n",
       "population_reg_sports_share          1429\n",
       "grp                                  1429\n",
       "hospital_bed_occupancy_per_year      1429\n",
       "profitable_enterpr_share             1429\n",
       "hospital_beds_available_per_cap      1429\n",
       "grp_growth                           1429\n",
       "real_dispos_income_per_cap_growth    1429\n",
       "provision_doctors                    1429\n",
       "pop_total_inc                        1429\n",
       "pop_migration                        1429\n",
       "invest_fixed_assets_phys             1429\n",
       "state                                 864\n",
       "life_sq                               313\n",
       "cafe_sum_2000_max_price_avg            83\n",
       "cafe_avg_price_2000                    83\n",
       "cafe_sum_2000_min_price_avg            83\n",
       "ID_railroad_station_walk               13\n",
       "metro_km_walk                          13\n",
       "metro_min_walk                         13\n",
       "cafe_avg_price_3000                     4\n",
       "cafe_sum_3000_max_price_avg             4\n",
       "cafe_sum_3000_min_price_avg             4\n",
       "cafe_avg_price_5000                     2\n",
       "build_count_before_1920                 2\n",
       "cafe_sum_5000_max_price_avg             2\n",
       "build_count_1971-1995                   2\n",
       "cafe_sum_5000_min_price_avg             2\n",
       "dtype: int64"
      ]
     },
     "execution_count": 23,
     "metadata": {},
     "output_type": "execute_result"
    }
   ],
   "source": [
    "df.isnull().sum().sort_values(ascending=False).head(50)"
   ]
  },
  {
   "cell_type": "code",
   "execution_count": 24,
   "id": "dc5493e2",
   "metadata": {},
   "outputs": [],
   "source": [
    "df = chk_multicollinearity('grp',df)\n",
    "df = chk_multicollinearity('share',df)\n",
    "df = chk_multicollinearity('hospi',df)\n"
   ]
  },
  {
   "cell_type": "code",
   "execution_count": 25,
   "id": "aabaae5b",
   "metadata": {},
   "outputs": [
    {
     "data": {
      "text/plain": [
       "(9653, 236)"
      ]
     },
     "execution_count": 25,
     "metadata": {},
     "output_type": "execute_result"
    }
   ],
   "source": [
    "df.shape"
   ]
  },
  {
   "cell_type": "code",
   "execution_count": null,
   "id": "caba0f6e",
   "metadata": {},
   "outputs": [],
   "source": []
  },
  {
   "cell_type": "code",
   "execution_count": 26,
   "id": "e877c82a",
   "metadata": {},
   "outputs": [
    {
     "data": {
      "text/html": [
       "<div>\n",
       "<style scoped>\n",
       "    .dataframe tbody tr th:only-of-type {\n",
       "        vertical-align: middle;\n",
       "    }\n",
       "\n",
       "    .dataframe tbody tr th {\n",
       "        vertical-align: top;\n",
       "    }\n",
       "\n",
       "    .dataframe thead th {\n",
       "        text-align: right;\n",
       "    }\n",
       "</style>\n",
       "<table border=\"1\" class=\"dataframe\">\n",
       "  <thead>\n",
       "    <tr style=\"text-align: right;\">\n",
       "      <th></th>\n",
       "      <th>full_sq</th>\n",
       "      <th>life_sq</th>\n",
       "      <th>floor</th>\n",
       "      <th>max_floor</th>\n",
       "      <th>material</th>\n",
       "      <th>build_year</th>\n",
       "      <th>num_room</th>\n",
       "      <th>kitch_sq</th>\n",
       "      <th>state</th>\n",
       "      <th>area_m</th>\n",
       "      <th>...</th>\n",
       "      <th>load_on_doctors</th>\n",
       "      <th>power_clinics</th>\n",
       "      <th>hospital_beds_available_per_cap</th>\n",
       "      <th>hospital_bed_occupancy_per_year</th>\n",
       "      <th>turnover_catering_per_cap</th>\n",
       "      <th>seats_theather_rfmin_per_100000_cap</th>\n",
       "      <th>bandwidth_sports</th>\n",
       "      <th>population_reg_sports_share</th>\n",
       "      <th>apartment_build</th>\n",
       "      <th>apartment_fund_sqm</th>\n",
       "    </tr>\n",
       "  </thead>\n",
       "  <tbody>\n",
       "    <tr>\n",
       "      <th>count</th>\n",
       "      <td>9653.000000</td>\n",
       "      <td>9340.000000</td>\n",
       "      <td>9653.000000</td>\n",
       "      <td>9653.000000</td>\n",
       "      <td>9653.000000</td>\n",
       "      <td>9.653000e+03</td>\n",
       "      <td>9653.000000</td>\n",
       "      <td>9653.000000</td>\n",
       "      <td>8789.000000</td>\n",
       "      <td>9.653000e+03</td>\n",
       "      <td>...</td>\n",
       "      <td>9653.000000</td>\n",
       "      <td>8224.000000</td>\n",
       "      <td>8224.000000</td>\n",
       "      <td>8224.000000</td>\n",
       "      <td>9653.000000</td>\n",
       "      <td>9653.000000</td>\n",
       "      <td>9653.000000</td>\n",
       "      <td>8224.000000</td>\n",
       "      <td>8224.000000</td>\n",
       "      <td>9653.000000</td>\n",
       "    </tr>\n",
       "    <tr>\n",
       "      <th>mean</th>\n",
       "      <td>53.248627</td>\n",
       "      <td>33.135225</td>\n",
       "      <td>6.880348</td>\n",
       "      <td>12.007355</td>\n",
       "      <td>1.964778</td>\n",
       "      <td>3.995055e+03</td>\n",
       "      <td>1.964881</td>\n",
       "      <td>7.132394</td>\n",
       "      <td>2.299579</td>\n",
       "      <td>1.030806e+07</td>\n",
       "      <td>...</td>\n",
       "      <td>7880.579330</td>\n",
       "      <td>60.602140</td>\n",
       "      <td>722.348979</td>\n",
       "      <td>287.652967</td>\n",
       "      <td>10190.795297</td>\n",
       "      <td>0.447774</td>\n",
       "      <td>394243.281881</td>\n",
       "      <td>27.845793</td>\n",
       "      <td>46144.229572</td>\n",
       "      <td>229423.410370</td>\n",
       "    </tr>\n",
       "    <tr>\n",
       "      <th>std</th>\n",
       "      <td>22.406053</td>\n",
       "      <td>19.464620</td>\n",
       "      <td>5.008083</td>\n",
       "      <td>6.218001</td>\n",
       "      <td>1.498308</td>\n",
       "      <td>2.040731e+05</td>\n",
       "      <td>0.867585</td>\n",
       "      <td>7.505108</td>\n",
       "      <td>0.823680</td>\n",
       "      <td>6.933260e+06</td>\n",
       "      <td>...</td>\n",
       "      <td>577.930420</td>\n",
       "      <td>33.638922</td>\n",
       "      <td>27.607701</td>\n",
       "      <td>2.973137</td>\n",
       "      <td>455.514558</td>\n",
       "      <td>0.005693</td>\n",
       "      <td>39724.124778</td>\n",
       "      <td>0.637101</td>\n",
       "      <td>115.527609</td>\n",
       "      <td>2497.223746</td>\n",
       "    </tr>\n",
       "    <tr>\n",
       "      <th>min</th>\n",
       "      <td>1.000000</td>\n",
       "      <td>0.000000</td>\n",
       "      <td>0.000000</td>\n",
       "      <td>0.000000</td>\n",
       "      <td>1.000000</td>\n",
       "      <td>0.000000e+00</td>\n",
       "      <td>0.000000</td>\n",
       "      <td>0.000000</td>\n",
       "      <td>1.000000</td>\n",
       "      <td>2.081628e+06</td>\n",
       "      <td>...</td>\n",
       "      <td>6899.930464</td>\n",
       "      <td>41.900000</td>\n",
       "      <td>707.000000</td>\n",
       "      <td>286.000000</td>\n",
       "      <td>9350.000000</td>\n",
       "      <td>0.439390</td>\n",
       "      <td>329348.000000</td>\n",
       "      <td>26.700000</td>\n",
       "      <td>46080.000000</td>\n",
       "      <td>226047.300000</td>\n",
       "    </tr>\n",
       "    <tr>\n",
       "      <th>25%</th>\n",
       "      <td>38.000000</td>\n",
       "      <td>20.000000</td>\n",
       "      <td>3.000000</td>\n",
       "      <td>8.000000</td>\n",
       "      <td>1.000000</td>\n",
       "      <td>1.965000e+03</td>\n",
       "      <td>1.000000</td>\n",
       "      <td>5.000000</td>\n",
       "      <td>2.000000</td>\n",
       "      <td>5.686537e+06</td>\n",
       "      <td>...</td>\n",
       "      <td>7804.909725</td>\n",
       "      <td>41.900000</td>\n",
       "      <td>707.000000</td>\n",
       "      <td>286.000000</td>\n",
       "      <td>10311.000000</td>\n",
       "      <td>0.447840</td>\n",
       "      <td>398451.000000</td>\n",
       "      <td>28.200000</td>\n",
       "      <td>46080.000000</td>\n",
       "      <td>229294.800000</td>\n",
       "    </tr>\n",
       "    <tr>\n",
       "      <th>50%</th>\n",
       "      <td>47.000000</td>\n",
       "      <td>30.000000</td>\n",
       "      <td>5.000000</td>\n",
       "      <td>12.000000</td>\n",
       "      <td>1.000000</td>\n",
       "      <td>1.974000e+03</td>\n",
       "      <td>2.000000</td>\n",
       "      <td>7.000000</td>\n",
       "      <td>2.000000</td>\n",
       "      <td>8.841267e+06</td>\n",
       "      <td>...</td>\n",
       "      <td>7804.909725</td>\n",
       "      <td>41.900000</td>\n",
       "      <td>707.000000</td>\n",
       "      <td>286.000000</td>\n",
       "      <td>10311.000000</td>\n",
       "      <td>0.447840</td>\n",
       "      <td>398451.000000</td>\n",
       "      <td>28.200000</td>\n",
       "      <td>46080.000000</td>\n",
       "      <td>229294.800000</td>\n",
       "    </tr>\n",
       "    <tr>\n",
       "      <th>75%</th>\n",
       "      <td>63.000000</td>\n",
       "      <td>42.000000</td>\n",
       "      <td>9.000000</td>\n",
       "      <td>17.000000</td>\n",
       "      <td>2.000000</td>\n",
       "      <td>2.000000e+03</td>\n",
       "      <td>3.000000</td>\n",
       "      <td>9.000000</td>\n",
       "      <td>3.000000</td>\n",
       "      <td>1.163805e+07</td>\n",
       "      <td>...</td>\n",
       "      <td>7804.909725</td>\n",
       "      <td>41.900000</td>\n",
       "      <td>707.000000</td>\n",
       "      <td>286.000000</td>\n",
       "      <td>10311.000000</td>\n",
       "      <td>0.447840</td>\n",
       "      <td>398451.000000</td>\n",
       "      <td>28.200000</td>\n",
       "      <td>46080.000000</td>\n",
       "      <td>229294.800000</td>\n",
       "    </tr>\n",
       "    <tr>\n",
       "      <th>max</th>\n",
       "      <td>637.000000</td>\n",
       "      <td>637.000000</td>\n",
       "      <td>77.000000</td>\n",
       "      <td>48.000000</td>\n",
       "      <td>6.000000</td>\n",
       "      <td>2.005201e+07</td>\n",
       "      <td>17.000000</td>\n",
       "      <td>620.000000</td>\n",
       "      <td>33.000000</td>\n",
       "      <td>6.197812e+07</td>\n",
       "      <td>...</td>\n",
       "      <td>8846.956102</td>\n",
       "      <td>121.100000</td>\n",
       "      <td>772.000000</td>\n",
       "      <td>293.000000</td>\n",
       "      <td>10805.000000</td>\n",
       "      <td>0.458880</td>\n",
       "      <td>463938.000000</td>\n",
       "      <td>28.200000</td>\n",
       "      <td>46352.000000</td>\n",
       "      <td>234576.900000</td>\n",
       "    </tr>\n",
       "  </tbody>\n",
       "</table>\n",
       "<p>8 rows × 217 columns</p>\n",
       "</div>"
      ],
      "text/plain": [
       "           full_sq      life_sq        floor    max_floor     material  \\\n",
       "count  9653.000000  9340.000000  9653.000000  9653.000000  9653.000000   \n",
       "mean     53.248627    33.135225     6.880348    12.007355     1.964778   \n",
       "std      22.406053    19.464620     5.008083     6.218001     1.498308   \n",
       "min       1.000000     0.000000     0.000000     0.000000     1.000000   \n",
       "25%      38.000000    20.000000     3.000000     8.000000     1.000000   \n",
       "50%      47.000000    30.000000     5.000000    12.000000     1.000000   \n",
       "75%      63.000000    42.000000     9.000000    17.000000     2.000000   \n",
       "max     637.000000   637.000000    77.000000    48.000000     6.000000   \n",
       "\n",
       "         build_year     num_room     kitch_sq        state        area_m  ...  \\\n",
       "count  9.653000e+03  9653.000000  9653.000000  8789.000000  9.653000e+03  ...   \n",
       "mean   3.995055e+03     1.964881     7.132394     2.299579  1.030806e+07  ...   \n",
       "std    2.040731e+05     0.867585     7.505108     0.823680  6.933260e+06  ...   \n",
       "min    0.000000e+00     0.000000     0.000000     1.000000  2.081628e+06  ...   \n",
       "25%    1.965000e+03     1.000000     5.000000     2.000000  5.686537e+06  ...   \n",
       "50%    1.974000e+03     2.000000     7.000000     2.000000  8.841267e+06  ...   \n",
       "75%    2.000000e+03     3.000000     9.000000     3.000000  1.163805e+07  ...   \n",
       "max    2.005201e+07    17.000000   620.000000    33.000000  6.197812e+07  ...   \n",
       "\n",
       "       load_on_doctors  power_clinics  hospital_beds_available_per_cap  \\\n",
       "count      9653.000000    8224.000000                      8224.000000   \n",
       "mean       7880.579330      60.602140                       722.348979   \n",
       "std         577.930420      33.638922                        27.607701   \n",
       "min        6899.930464      41.900000                       707.000000   \n",
       "25%        7804.909725      41.900000                       707.000000   \n",
       "50%        7804.909725      41.900000                       707.000000   \n",
       "75%        7804.909725      41.900000                       707.000000   \n",
       "max        8846.956102     121.100000                       772.000000   \n",
       "\n",
       "       hospital_bed_occupancy_per_year  turnover_catering_per_cap  \\\n",
       "count                      8224.000000                9653.000000   \n",
       "mean                        287.652967               10190.795297   \n",
       "std                           2.973137                 455.514558   \n",
       "min                         286.000000                9350.000000   \n",
       "25%                         286.000000               10311.000000   \n",
       "50%                         286.000000               10311.000000   \n",
       "75%                         286.000000               10311.000000   \n",
       "max                         293.000000               10805.000000   \n",
       "\n",
       "       seats_theather_rfmin_per_100000_cap  bandwidth_sports  \\\n",
       "count                          9653.000000       9653.000000   \n",
       "mean                              0.447774     394243.281881   \n",
       "std                               0.005693      39724.124778   \n",
       "min                               0.439390     329348.000000   \n",
       "25%                               0.447840     398451.000000   \n",
       "50%                               0.447840     398451.000000   \n",
       "75%                               0.447840     398451.000000   \n",
       "max                               0.458880     463938.000000   \n",
       "\n",
       "       population_reg_sports_share  apartment_build  apartment_fund_sqm  \n",
       "count                  8224.000000      8224.000000         9653.000000  \n",
       "mean                     27.845793     46144.229572       229423.410370  \n",
       "std                       0.637101       115.527609         2497.223746  \n",
       "min                      26.700000     46080.000000       226047.300000  \n",
       "25%                      28.200000     46080.000000       229294.800000  \n",
       "50%                      28.200000     46080.000000       229294.800000  \n",
       "75%                      28.200000     46080.000000       229294.800000  \n",
       "max                      28.200000     46352.000000       234576.900000  \n",
       "\n",
       "[8 rows x 217 columns]"
      ]
     },
     "execution_count": 26,
     "metadata": {},
     "output_type": "execute_result"
    }
   ],
   "source": [
    "df.describe()"
   ]
  },
  {
   "cell_type": "markdown",
   "id": "712765aa",
   "metadata": {},
   "source": [
    "### Removing outliers"
   ]
  },
  {
   "cell_type": "code",
   "execution_count": 27,
   "id": "bf63c711",
   "metadata": {},
   "outputs": [],
   "source": [
    "for col in df.select_dtypes('number'):\n",
    "    high,maxi =  df[col].quantile([.9,1])\n",
    "    if maxi > 5 * high:\n",
    "        low,high = df[col].quantile([0.1,.9])\n",
    "        df = df[df[col].between(low,high)]"
   ]
  },
  {
   "cell_type": "code",
   "execution_count": 28,
   "id": "75eecc2b",
   "metadata": {},
   "outputs": [
    {
     "data": {
      "text/html": [
       "<div>\n",
       "<style scoped>\n",
       "    .dataframe tbody tr th:only-of-type {\n",
       "        vertical-align: middle;\n",
       "    }\n",
       "\n",
       "    .dataframe tbody tr th {\n",
       "        vertical-align: top;\n",
       "    }\n",
       "\n",
       "    .dataframe thead th {\n",
       "        text-align: right;\n",
       "    }\n",
       "</style>\n",
       "<table border=\"1\" class=\"dataframe\">\n",
       "  <thead>\n",
       "    <tr style=\"text-align: right;\">\n",
       "      <th></th>\n",
       "      <th>timestamp</th>\n",
       "      <th>full_sq</th>\n",
       "      <th>life_sq</th>\n",
       "      <th>floor</th>\n",
       "      <th>max_floor</th>\n",
       "      <th>material</th>\n",
       "      <th>build_year</th>\n",
       "      <th>num_room</th>\n",
       "      <th>kitch_sq</th>\n",
       "      <th>state</th>\n",
       "      <th>...</th>\n",
       "      <th>load_on_doctors</th>\n",
       "      <th>power_clinics</th>\n",
       "      <th>hospital_beds_available_per_cap</th>\n",
       "      <th>hospital_bed_occupancy_per_year</th>\n",
       "      <th>turnover_catering_per_cap</th>\n",
       "      <th>seats_theather_rfmin_per_100000_cap</th>\n",
       "      <th>bandwidth_sports</th>\n",
       "      <th>population_reg_sports_share</th>\n",
       "      <th>apartment_build</th>\n",
       "      <th>apartment_fund_sqm</th>\n",
       "    </tr>\n",
       "  </thead>\n",
       "  <tbody>\n",
       "    <tr>\n",
       "      <th>8154</th>\n",
       "      <td>2013-05-27</td>\n",
       "      <td>45</td>\n",
       "      <td>27.0</td>\n",
       "      <td>6.0</td>\n",
       "      <td>9.0</td>\n",
       "      <td>1.0</td>\n",
       "      <td>1970.0</td>\n",
       "      <td>2.0</td>\n",
       "      <td>6.0</td>\n",
       "      <td>3.0</td>\n",
       "      <td>...</td>\n",
       "      <td>8846.956102</td>\n",
       "      <td>121.1</td>\n",
       "      <td>772.0</td>\n",
       "      <td>293.0</td>\n",
       "      <td>9350.0</td>\n",
       "      <td>0.43939</td>\n",
       "      <td>329348.0</td>\n",
       "      <td>26.7</td>\n",
       "      <td>46352.0</td>\n",
       "      <td>226047.3</td>\n",
       "    </tr>\n",
       "    <tr>\n",
       "      <th>8381</th>\n",
       "      <td>2013-06-07</td>\n",
       "      <td>52</td>\n",
       "      <td>33.0</td>\n",
       "      <td>13.0</td>\n",
       "      <td>25.0</td>\n",
       "      <td>2.0</td>\n",
       "      <td>2004.0</td>\n",
       "      <td>2.0</td>\n",
       "      <td>7.0</td>\n",
       "      <td>NaN</td>\n",
       "      <td>...</td>\n",
       "      <td>8846.956102</td>\n",
       "      <td>121.1</td>\n",
       "      <td>772.0</td>\n",
       "      <td>293.0</td>\n",
       "      <td>9350.0</td>\n",
       "      <td>0.43939</td>\n",
       "      <td>329348.0</td>\n",
       "      <td>26.7</td>\n",
       "      <td>46352.0</td>\n",
       "      <td>226047.3</td>\n",
       "    </tr>\n",
       "    <tr>\n",
       "      <th>8423</th>\n",
       "      <td>2013-06-10</td>\n",
       "      <td>46</td>\n",
       "      <td>29.0</td>\n",
       "      <td>9.0</td>\n",
       "      <td>9.0</td>\n",
       "      <td>2.0</td>\n",
       "      <td>1969.0</td>\n",
       "      <td>2.0</td>\n",
       "      <td>5.0</td>\n",
       "      <td>3.0</td>\n",
       "      <td>...</td>\n",
       "      <td>8846.956102</td>\n",
       "      <td>121.1</td>\n",
       "      <td>772.0</td>\n",
       "      <td>293.0</td>\n",
       "      <td>9350.0</td>\n",
       "      <td>0.43939</td>\n",
       "      <td>329348.0</td>\n",
       "      <td>26.7</td>\n",
       "      <td>46352.0</td>\n",
       "      <td>226047.3</td>\n",
       "    </tr>\n",
       "    <tr>\n",
       "      <th>8427</th>\n",
       "      <td>2013-06-10</td>\n",
       "      <td>45</td>\n",
       "      <td>29.0</td>\n",
       "      <td>2.0</td>\n",
       "      <td>9.0</td>\n",
       "      <td>1.0</td>\n",
       "      <td>1972.0</td>\n",
       "      <td>2.0</td>\n",
       "      <td>6.0</td>\n",
       "      <td>3.0</td>\n",
       "      <td>...</td>\n",
       "      <td>8846.956102</td>\n",
       "      <td>121.1</td>\n",
       "      <td>772.0</td>\n",
       "      <td>293.0</td>\n",
       "      <td>9350.0</td>\n",
       "      <td>0.43939</td>\n",
       "      <td>329348.0</td>\n",
       "      <td>26.7</td>\n",
       "      <td>46352.0</td>\n",
       "      <td>226047.3</td>\n",
       "    </tr>\n",
       "    <tr>\n",
       "      <th>8563</th>\n",
       "      <td>2013-06-19</td>\n",
       "      <td>46</td>\n",
       "      <td>45.0</td>\n",
       "      <td>5.0</td>\n",
       "      <td>5.0</td>\n",
       "      <td>1.0</td>\n",
       "      <td>1967.0</td>\n",
       "      <td>2.0</td>\n",
       "      <td>5.0</td>\n",
       "      <td>3.0</td>\n",
       "      <td>...</td>\n",
       "      <td>8846.956102</td>\n",
       "      <td>121.1</td>\n",
       "      <td>772.0</td>\n",
       "      <td>293.0</td>\n",
       "      <td>9350.0</td>\n",
       "      <td>0.43939</td>\n",
       "      <td>329348.0</td>\n",
       "      <td>26.7</td>\n",
       "      <td>46352.0</td>\n",
       "      <td>226047.3</td>\n",
       "    </tr>\n",
       "  </tbody>\n",
       "</table>\n",
       "<p>5 rows × 236 columns</p>\n",
       "</div>"
      ],
      "text/plain": [
       "       timestamp  full_sq  life_sq  floor  max_floor  material  build_year  \\\n",
       "8154  2013-05-27       45     27.0    6.0        9.0       1.0      1970.0   \n",
       "8381  2013-06-07       52     33.0   13.0       25.0       2.0      2004.0   \n",
       "8423  2013-06-10       46     29.0    9.0        9.0       2.0      1969.0   \n",
       "8427  2013-06-10       45     29.0    2.0        9.0       1.0      1972.0   \n",
       "8563  2013-06-19       46     45.0    5.0        5.0       1.0      1967.0   \n",
       "\n",
       "      num_room  kitch_sq  state  ... load_on_doctors power_clinics  \\\n",
       "8154       2.0       6.0    3.0  ...     8846.956102         121.1   \n",
       "8381       2.0       7.0    NaN  ...     8846.956102         121.1   \n",
       "8423       2.0       5.0    3.0  ...     8846.956102         121.1   \n",
       "8427       2.0       6.0    3.0  ...     8846.956102         121.1   \n",
       "8563       2.0       5.0    3.0  ...     8846.956102         121.1   \n",
       "\n",
       "      hospital_beds_available_per_cap  hospital_bed_occupancy_per_year  \\\n",
       "8154                            772.0                            293.0   \n",
       "8381                            772.0                            293.0   \n",
       "8423                            772.0                            293.0   \n",
       "8427                            772.0                            293.0   \n",
       "8563                            772.0                            293.0   \n",
       "\n",
       "      turnover_catering_per_cap  seats_theather_rfmin_per_100000_cap  \\\n",
       "8154                     9350.0                              0.43939   \n",
       "8381                     9350.0                              0.43939   \n",
       "8423                     9350.0                              0.43939   \n",
       "8427                     9350.0                              0.43939   \n",
       "8563                     9350.0                              0.43939   \n",
       "\n",
       "      bandwidth_sports  population_reg_sports_share  apartment_build  \\\n",
       "8154          329348.0                         26.7          46352.0   \n",
       "8381          329348.0                         26.7          46352.0   \n",
       "8423          329348.0                         26.7          46352.0   \n",
       "8427          329348.0                         26.7          46352.0   \n",
       "8563          329348.0                         26.7          46352.0   \n",
       "\n",
       "     apartment_fund_sqm  \n",
       "8154           226047.3  \n",
       "8381           226047.3  \n",
       "8423           226047.3  \n",
       "8427           226047.3  \n",
       "8563           226047.3  \n",
       "\n",
       "[5 rows x 236 columns]"
      ]
     },
     "execution_count": 28,
     "metadata": {},
     "output_type": "execute_result"
    }
   ],
   "source": [
    "df.head()"
   ]
  },
  {
   "cell_type": "markdown",
   "id": "604475cd",
   "metadata": {},
   "source": [
    "### Getting season and year from timestamp"
   ]
  },
  {
   "cell_type": "code",
   "execution_count": 29,
   "id": "69837e79",
   "metadata": {},
   "outputs": [],
   "source": [
    "\n",
    "# Extract months out of the timestamp and split it based on seasons\n",
    "    \n",
    "df['month'] = df['timestamp'].str.split('-',expand=True)[1].astype(float)\n",
    "    \n",
    "df.loc[(df['month'] >= 3) & (df['month']<= 5) ,'season'] = 'spring'\n",
    "df.loc[(df['month'] >= 6) & (df['month']<= 8) ,'season'] = 'summer'\n",
    "df.loc[(df['month'] >= 9) & (df['month']<= 11) ,'season'] = 'fall'\n",
    "df.loc[(df['month'] == 12) | (df['month']<= 2) ,'season'] = 'winter'\n",
    "\n",
    "mask_season = {'winter':4,'fall': 3,'summer':2,'spring':1}\n",
    "\n",
    "df['season'] = df['season'].replace(mask_season)"
   ]
  },
  {
   "cell_type": "code",
   "execution_count": 30,
   "id": "008ecc9b",
   "metadata": {},
   "outputs": [],
   "source": [
    "df['year'] = df['timestamp'].str.split('-',expand=True)[0].astype(float)\n",
    "\n",
    "df.drop(columns=['timestamp','month'],inplace = True)"
   ]
  },
  {
   "cell_type": "markdown",
   "id": "cf09852e",
   "metadata": {},
   "source": [
    "### Handling categorical variables"
   ]
  },
  {
   "cell_type": "code",
   "execution_count": 31,
   "id": "ad68b999",
   "metadata": {},
   "outputs": [
    {
     "data": {
      "text/html": [
       "<div>\n",
       "<style scoped>\n",
       "    .dataframe tbody tr th:only-of-type {\n",
       "        vertical-align: middle;\n",
       "    }\n",
       "\n",
       "    .dataframe tbody tr th {\n",
       "        vertical-align: top;\n",
       "    }\n",
       "\n",
       "    .dataframe thead th {\n",
       "        text-align: right;\n",
       "    }\n",
       "</style>\n",
       "<table border=\"1\" class=\"dataframe\">\n",
       "  <thead>\n",
       "    <tr style=\"text-align: right;\">\n",
       "      <th></th>\n",
       "      <th>product_type</th>\n",
       "      <th>sub_area</th>\n",
       "      <th>culture_objects_top_25</th>\n",
       "      <th>thermal_power_plant_raion</th>\n",
       "      <th>incineration_raion</th>\n",
       "      <th>oil_chemistry_raion</th>\n",
       "      <th>radiation_raion</th>\n",
       "      <th>railroad_terminal_raion</th>\n",
       "      <th>big_market_raion</th>\n",
       "      <th>nuclear_reactor_raion</th>\n",
       "      <th>detention_facility_raion</th>\n",
       "      <th>water_1line</th>\n",
       "      <th>big_road1_1line</th>\n",
       "      <th>railroad_1line</th>\n",
       "      <th>ecology</th>\n",
       "      <th>child_on_acc_pre_school</th>\n",
       "      <th>modern_education_share</th>\n",
       "      <th>old_education_build_share</th>\n",
       "    </tr>\n",
       "  </thead>\n",
       "  <tbody>\n",
       "    <tr>\n",
       "      <th>8154</th>\n",
       "      <td>Investment</td>\n",
       "      <td>Severnoe Butovo</td>\n",
       "      <td>no</td>\n",
       "      <td>no</td>\n",
       "      <td>no</td>\n",
       "      <td>no</td>\n",
       "      <td>no</td>\n",
       "      <td>no</td>\n",
       "      <td>no</td>\n",
       "      <td>no</td>\n",
       "      <td>no</td>\n",
       "      <td>no</td>\n",
       "      <td>no</td>\n",
       "      <td>no</td>\n",
       "      <td>good</td>\n",
       "      <td>3,013</td>\n",
       "      <td>90,92</td>\n",
       "      <td>23,14</td>\n",
       "    </tr>\n",
       "    <tr>\n",
       "      <th>8381</th>\n",
       "      <td>Investment</td>\n",
       "      <td>Shhukino</td>\n",
       "      <td>no</td>\n",
       "      <td>no</td>\n",
       "      <td>no</td>\n",
       "      <td>no</td>\n",
       "      <td>yes</td>\n",
       "      <td>no</td>\n",
       "      <td>no</td>\n",
       "      <td>yes</td>\n",
       "      <td>no</td>\n",
       "      <td>no</td>\n",
       "      <td>no</td>\n",
       "      <td>no</td>\n",
       "      <td>satisfactory</td>\n",
       "      <td>3,013</td>\n",
       "      <td>90,92</td>\n",
       "      <td>23,14</td>\n",
       "    </tr>\n",
       "    <tr>\n",
       "      <th>8423</th>\n",
       "      <td>Investment</td>\n",
       "      <td>Dmitrovskoe</td>\n",
       "      <td>no</td>\n",
       "      <td>yes</td>\n",
       "      <td>no</td>\n",
       "      <td>no</td>\n",
       "      <td>no</td>\n",
       "      <td>no</td>\n",
       "      <td>no</td>\n",
       "      <td>yes</td>\n",
       "      <td>no</td>\n",
       "      <td>no</td>\n",
       "      <td>no</td>\n",
       "      <td>no</td>\n",
       "      <td>poor</td>\n",
       "      <td>3,013</td>\n",
       "      <td>90,92</td>\n",
       "      <td>23,14</td>\n",
       "    </tr>\n",
       "    <tr>\n",
       "      <th>8427</th>\n",
       "      <td>Investment</td>\n",
       "      <td>Kon'kovo</td>\n",
       "      <td>no</td>\n",
       "      <td>no</td>\n",
       "      <td>no</td>\n",
       "      <td>no</td>\n",
       "      <td>yes</td>\n",
       "      <td>no</td>\n",
       "      <td>no</td>\n",
       "      <td>no</td>\n",
       "      <td>no</td>\n",
       "      <td>no</td>\n",
       "      <td>no</td>\n",
       "      <td>no</td>\n",
       "      <td>satisfactory</td>\n",
       "      <td>3,013</td>\n",
       "      <td>90,92</td>\n",
       "      <td>23,14</td>\n",
       "    </tr>\n",
       "    <tr>\n",
       "      <th>8563</th>\n",
       "      <td>Investment</td>\n",
       "      <td>Golovinskoe</td>\n",
       "      <td>no</td>\n",
       "      <td>no</td>\n",
       "      <td>no</td>\n",
       "      <td>no</td>\n",
       "      <td>no</td>\n",
       "      <td>no</td>\n",
       "      <td>no</td>\n",
       "      <td>yes</td>\n",
       "      <td>no</td>\n",
       "      <td>no</td>\n",
       "      <td>no</td>\n",
       "      <td>no</td>\n",
       "      <td>poor</td>\n",
       "      <td>3,013</td>\n",
       "      <td>90,92</td>\n",
       "      <td>23,14</td>\n",
       "    </tr>\n",
       "    <tr>\n",
       "      <th>...</th>\n",
       "      <td>...</td>\n",
       "      <td>...</td>\n",
       "      <td>...</td>\n",
       "      <td>...</td>\n",
       "      <td>...</td>\n",
       "      <td>...</td>\n",
       "      <td>...</td>\n",
       "      <td>...</td>\n",
       "      <td>...</td>\n",
       "      <td>...</td>\n",
       "      <td>...</td>\n",
       "      <td>...</td>\n",
       "      <td>...</td>\n",
       "      <td>...</td>\n",
       "      <td>...</td>\n",
       "      <td>...</td>\n",
       "      <td>...</td>\n",
       "      <td>...</td>\n",
       "    </tr>\n",
       "    <tr>\n",
       "      <th>30399</th>\n",
       "      <td>Investment</td>\n",
       "      <td>Vostochnoe Izmajlovo</td>\n",
       "      <td>no</td>\n",
       "      <td>no</td>\n",
       "      <td>no</td>\n",
       "      <td>no</td>\n",
       "      <td>yes</td>\n",
       "      <td>no</td>\n",
       "      <td>no</td>\n",
       "      <td>no</td>\n",
       "      <td>no</td>\n",
       "      <td>no</td>\n",
       "      <td>no</td>\n",
       "      <td>no</td>\n",
       "      <td>good</td>\n",
       "      <td>NaN</td>\n",
       "      <td>95,4918</td>\n",
       "      <td>8,2517</td>\n",
       "    </tr>\n",
       "    <tr>\n",
       "      <th>30410</th>\n",
       "      <td>Investment</td>\n",
       "      <td>Losinoostrovskoe</td>\n",
       "      <td>no</td>\n",
       "      <td>no</td>\n",
       "      <td>no</td>\n",
       "      <td>no</td>\n",
       "      <td>yes</td>\n",
       "      <td>no</td>\n",
       "      <td>no</td>\n",
       "      <td>no</td>\n",
       "      <td>no</td>\n",
       "      <td>no</td>\n",
       "      <td>no</td>\n",
       "      <td>no</td>\n",
       "      <td>good</td>\n",
       "      <td>NaN</td>\n",
       "      <td>95,4918</td>\n",
       "      <td>8,2517</td>\n",
       "    </tr>\n",
       "    <tr>\n",
       "      <th>30436</th>\n",
       "      <td>Investment</td>\n",
       "      <td>Bibirevo</td>\n",
       "      <td>no</td>\n",
       "      <td>no</td>\n",
       "      <td>no</td>\n",
       "      <td>no</td>\n",
       "      <td>no</td>\n",
       "      <td>no</td>\n",
       "      <td>no</td>\n",
       "      <td>no</td>\n",
       "      <td>no</td>\n",
       "      <td>no</td>\n",
       "      <td>no</td>\n",
       "      <td>no</td>\n",
       "      <td>good</td>\n",
       "      <td>NaN</td>\n",
       "      <td>95,4918</td>\n",
       "      <td>8,2517</td>\n",
       "    </tr>\n",
       "    <tr>\n",
       "      <th>30452</th>\n",
       "      <td>Investment</td>\n",
       "      <td>Ochakovo-Matveevskoe</td>\n",
       "      <td>no</td>\n",
       "      <td>yes</td>\n",
       "      <td>no</td>\n",
       "      <td>no</td>\n",
       "      <td>no</td>\n",
       "      <td>no</td>\n",
       "      <td>no</td>\n",
       "      <td>no</td>\n",
       "      <td>no</td>\n",
       "      <td>no</td>\n",
       "      <td>no</td>\n",
       "      <td>no</td>\n",
       "      <td>satisfactory</td>\n",
       "      <td>NaN</td>\n",
       "      <td>95,4918</td>\n",
       "      <td>8,2517</td>\n",
       "    </tr>\n",
       "    <tr>\n",
       "      <th>30460</th>\n",
       "      <td>Investment</td>\n",
       "      <td>Jasenevo</td>\n",
       "      <td>no</td>\n",
       "      <td>no</td>\n",
       "      <td>no</td>\n",
       "      <td>no</td>\n",
       "      <td>yes</td>\n",
       "      <td>no</td>\n",
       "      <td>no</td>\n",
       "      <td>no</td>\n",
       "      <td>no</td>\n",
       "      <td>no</td>\n",
       "      <td>no</td>\n",
       "      <td>no</td>\n",
       "      <td>good</td>\n",
       "      <td>NaN</td>\n",
       "      <td>95,4918</td>\n",
       "      <td>8,2517</td>\n",
       "    </tr>\n",
       "  </tbody>\n",
       "</table>\n",
       "<p>1439 rows × 18 columns</p>\n",
       "</div>"
      ],
      "text/plain": [
       "      product_type              sub_area culture_objects_top_25  \\\n",
       "8154    Investment       Severnoe Butovo                     no   \n",
       "8381    Investment              Shhukino                     no   \n",
       "8423    Investment           Dmitrovskoe                     no   \n",
       "8427    Investment              Kon'kovo                     no   \n",
       "8563    Investment           Golovinskoe                     no   \n",
       "...            ...                   ...                    ...   \n",
       "30399   Investment  Vostochnoe Izmajlovo                     no   \n",
       "30410   Investment      Losinoostrovskoe                     no   \n",
       "30436   Investment              Bibirevo                     no   \n",
       "30452   Investment  Ochakovo-Matveevskoe                     no   \n",
       "30460   Investment              Jasenevo                     no   \n",
       "\n",
       "      thermal_power_plant_raion incineration_raion oil_chemistry_raion  \\\n",
       "8154                         no                 no                  no   \n",
       "8381                         no                 no                  no   \n",
       "8423                        yes                 no                  no   \n",
       "8427                         no                 no                  no   \n",
       "8563                         no                 no                  no   \n",
       "...                         ...                ...                 ...   \n",
       "30399                        no                 no                  no   \n",
       "30410                        no                 no                  no   \n",
       "30436                        no                 no                  no   \n",
       "30452                       yes                 no                  no   \n",
       "30460                        no                 no                  no   \n",
       "\n",
       "      radiation_raion railroad_terminal_raion big_market_raion  \\\n",
       "8154               no                      no               no   \n",
       "8381              yes                      no               no   \n",
       "8423               no                      no               no   \n",
       "8427              yes                      no               no   \n",
       "8563               no                      no               no   \n",
       "...               ...                     ...              ...   \n",
       "30399             yes                      no               no   \n",
       "30410             yes                      no               no   \n",
       "30436              no                      no               no   \n",
       "30452              no                      no               no   \n",
       "30460             yes                      no               no   \n",
       "\n",
       "      nuclear_reactor_raion detention_facility_raion water_1line  \\\n",
       "8154                     no                       no          no   \n",
       "8381                    yes                       no          no   \n",
       "8423                    yes                       no          no   \n",
       "8427                     no                       no          no   \n",
       "8563                    yes                       no          no   \n",
       "...                     ...                      ...         ...   \n",
       "30399                    no                       no          no   \n",
       "30410                    no                       no          no   \n",
       "30436                    no                       no          no   \n",
       "30452                    no                       no          no   \n",
       "30460                    no                       no          no   \n",
       "\n",
       "      big_road1_1line railroad_1line       ecology child_on_acc_pre_school  \\\n",
       "8154               no             no          good                   3,013   \n",
       "8381               no             no  satisfactory                   3,013   \n",
       "8423               no             no          poor                   3,013   \n",
       "8427               no             no  satisfactory                   3,013   \n",
       "8563               no             no          poor                   3,013   \n",
       "...               ...            ...           ...                     ...   \n",
       "30399              no             no          good                     NaN   \n",
       "30410              no             no          good                     NaN   \n",
       "30436              no             no          good                     NaN   \n",
       "30452              no             no  satisfactory                     NaN   \n",
       "30460              no             no          good                     NaN   \n",
       "\n",
       "      modern_education_share old_education_build_share  \n",
       "8154                   90,92                     23,14  \n",
       "8381                   90,92                     23,14  \n",
       "8423                   90,92                     23,14  \n",
       "8427                   90,92                     23,14  \n",
       "8563                   90,92                     23,14  \n",
       "...                      ...                       ...  \n",
       "30399                95,4918                    8,2517  \n",
       "30410                95,4918                    8,2517  \n",
       "30436                95,4918                    8,2517  \n",
       "30452                95,4918                    8,2517  \n",
       "30460                95,4918                    8,2517  \n",
       "\n",
       "[1439 rows x 18 columns]"
      ]
     },
     "execution_count": 31,
     "metadata": {},
     "output_type": "execute_result"
    }
   ],
   "source": [
    "df.select_dtypes('object')"
   ]
  },
  {
   "cell_type": "code",
   "execution_count": 32,
   "id": "d3c5ba50",
   "metadata": {
    "scrolled": false
   },
   "outputs": [],
   "source": [
    "df.drop(columns= ['child_on_acc_pre_school','modern_education_share','old_education_build_share'],inplace=True)\n"
   ]
  },
  {
   "cell_type": "code",
   "execution_count": 33,
   "id": "a82703dd",
   "metadata": {},
   "outputs": [
    {
     "data": {
      "text/plain": [
       "Index(['product_type', 'sub_area', 'culture_objects_top_25',\n",
       "       'thermal_power_plant_raion', 'incineration_raion',\n",
       "       'oil_chemistry_raion', 'radiation_raion', 'railroad_terminal_raion',\n",
       "       'big_market_raion', 'nuclear_reactor_raion', 'detention_facility_raion',\n",
       "       'water_1line', 'big_road1_1line', 'railroad_1line', 'ecology'],\n",
       "      dtype='object')"
      ]
     },
     "execution_count": 33,
     "metadata": {},
     "output_type": "execute_result"
    }
   ],
   "source": [
    "categorical = df.select_dtypes('object').columns\n",
    "categorical"
   ]
  },
  {
   "cell_type": "code",
   "execution_count": null,
   "id": "c06c61f9",
   "metadata": {},
   "outputs": [],
   "source": []
  },
  {
   "cell_type": "code",
   "execution_count": 34,
   "id": "5f558c48",
   "metadata": {},
   "outputs": [],
   "source": [
    "# Discretizing non - ordinal features\n",
    "df  = pd.get_dummies(df, columns=categorical,drop_first=True)\n",
    "    "
   ]
  },
  {
   "cell_type": "markdown",
   "id": "8721b70f",
   "metadata": {},
   "source": [
    "<a id='model'></a>\n",
    "## Building Model "
   ]
  },
  {
   "cell_type": "markdown",
   "id": "613650d9",
   "metadata": {},
   "source": [
    "### Splitting the data into training and testing data set"
   ]
  },
  {
   "cell_type": "code",
   "execution_count": 35,
   "id": "361ebe1f",
   "metadata": {},
   "outputs": [],
   "source": [
    "X = df.drop(columns= ['price_doc'])\n",
    "y = df['price_doc']\n",
    "X_train,X_test,y_train,y_test = train_test_split(X,y,test_size=0.2,random_state=42)"
   ]
  },
  {
   "cell_type": "markdown",
   "id": "8b286f6d",
   "metadata": {},
   "source": [
    "### Baseline model"
   ]
  },
  {
   "cell_type": "code",
   "execution_count": 36,
   "id": "8ea070d6",
   "metadata": {},
   "outputs": [],
   "source": [
    "y_mean = y.mean()\n",
    "y_pred_baseline =[y_mean for i in range(len(y))]"
   ]
  },
  {
   "cell_type": "code",
   "execution_count": 37,
   "id": "ebddc32e",
   "metadata": {},
   "outputs": [
    {
     "data": {
      "text/plain": [
       "6897416.15913829"
      ]
     },
     "execution_count": 37,
     "metadata": {},
     "output_type": "execute_result"
    }
   ],
   "source": [
    "y_mean"
   ]
  },
  {
   "cell_type": "markdown",
   "id": "e84e2b86",
   "metadata": {},
   "source": [
    "### Ridge Regression Model Instantiation and Training"
   ]
  },
  {
   "cell_type": "code",
   "execution_count": 42,
   "id": "93d1c689",
   "metadata": {},
   "outputs": [],
   "source": [
    "model = make_pipeline(\n",
    "    SimpleImputer(),\n",
    "    Ridge()\n",
    ")"
   ]
  },
  {
   "cell_type": "code",
   "execution_count": 43,
   "id": "f950ff06",
   "metadata": {
    "scrolled": true
   },
   "outputs": [
    {
     "name": "stderr",
     "output_type": "stream",
     "text": [
      "C:\\Users\\YUSUF\\anaconda3\\lib\\site-packages\\sklearn\\linear_model\\_ridge.py:216: LinAlgWarning: Ill-conditioned matrix (rcond=1.35234e-17): result may not be accurate.\n",
      "  return linalg.solve(A, Xy, assume_a=\"pos\", overwrite_a=True).T\n"
     ]
    },
    {
     "data": {
      "text/html": [
       "<style>#sk-container-id-2 {color: black;background-color: white;}#sk-container-id-2 pre{padding: 0;}#sk-container-id-2 div.sk-toggleable {background-color: white;}#sk-container-id-2 label.sk-toggleable__label {cursor: pointer;display: block;width: 100%;margin-bottom: 0;padding: 0.3em;box-sizing: border-box;text-align: center;}#sk-container-id-2 label.sk-toggleable__label-arrow:before {content: \"▸\";float: left;margin-right: 0.25em;color: #696969;}#sk-container-id-2 label.sk-toggleable__label-arrow:hover:before {color: black;}#sk-container-id-2 div.sk-estimator:hover label.sk-toggleable__label-arrow:before {color: black;}#sk-container-id-2 div.sk-toggleable__content {max-height: 0;max-width: 0;overflow: hidden;text-align: left;background-color: #f0f8ff;}#sk-container-id-2 div.sk-toggleable__content pre {margin: 0.2em;color: black;border-radius: 0.25em;background-color: #f0f8ff;}#sk-container-id-2 input.sk-toggleable__control:checked~div.sk-toggleable__content {max-height: 200px;max-width: 100%;overflow: auto;}#sk-container-id-2 input.sk-toggleable__control:checked~label.sk-toggleable__label-arrow:before {content: \"▾\";}#sk-container-id-2 div.sk-estimator input.sk-toggleable__control:checked~label.sk-toggleable__label {background-color: #d4ebff;}#sk-container-id-2 div.sk-label input.sk-toggleable__control:checked~label.sk-toggleable__label {background-color: #d4ebff;}#sk-container-id-2 input.sk-hidden--visually {border: 0;clip: rect(1px 1px 1px 1px);clip: rect(1px, 1px, 1px, 1px);height: 1px;margin: -1px;overflow: hidden;padding: 0;position: absolute;width: 1px;}#sk-container-id-2 div.sk-estimator {font-family: monospace;background-color: #f0f8ff;border: 1px dotted black;border-radius: 0.25em;box-sizing: border-box;margin-bottom: 0.5em;}#sk-container-id-2 div.sk-estimator:hover {background-color: #d4ebff;}#sk-container-id-2 div.sk-parallel-item::after {content: \"\";width: 100%;border-bottom: 1px solid gray;flex-grow: 1;}#sk-container-id-2 div.sk-label:hover label.sk-toggleable__label {background-color: #d4ebff;}#sk-container-id-2 div.sk-serial::before {content: \"\";position: absolute;border-left: 1px solid gray;box-sizing: border-box;top: 0;bottom: 0;left: 50%;z-index: 0;}#sk-container-id-2 div.sk-serial {display: flex;flex-direction: column;align-items: center;background-color: white;padding-right: 0.2em;padding-left: 0.2em;position: relative;}#sk-container-id-2 div.sk-item {position: relative;z-index: 1;}#sk-container-id-2 div.sk-parallel {display: flex;align-items: stretch;justify-content: center;background-color: white;position: relative;}#sk-container-id-2 div.sk-item::before, #sk-container-id-2 div.sk-parallel-item::before {content: \"\";position: absolute;border-left: 1px solid gray;box-sizing: border-box;top: 0;bottom: 0;left: 50%;z-index: -1;}#sk-container-id-2 div.sk-parallel-item {display: flex;flex-direction: column;z-index: 1;position: relative;background-color: white;}#sk-container-id-2 div.sk-parallel-item:first-child::after {align-self: flex-end;width: 50%;}#sk-container-id-2 div.sk-parallel-item:last-child::after {align-self: flex-start;width: 50%;}#sk-container-id-2 div.sk-parallel-item:only-child::after {width: 0;}#sk-container-id-2 div.sk-dashed-wrapped {border: 1px dashed gray;margin: 0 0.4em 0.5em 0.4em;box-sizing: border-box;padding-bottom: 0.4em;background-color: white;}#sk-container-id-2 div.sk-label label {font-family: monospace;font-weight: bold;display: inline-block;line-height: 1.2em;}#sk-container-id-2 div.sk-label-container {text-align: center;}#sk-container-id-2 div.sk-container {/* jupyter's `normalize.less` sets `[hidden] { display: none; }` but bootstrap.min.css set `[hidden] { display: none !important; }` so we also need the `!important` here to be able to override the default hidden behavior on the sphinx rendered scikit-learn.org. See: https://github.com/scikit-learn/scikit-learn/issues/21755 */display: inline-block !important;position: relative;}#sk-container-id-2 div.sk-text-repr-fallback {display: none;}</style><div id=\"sk-container-id-2\" class=\"sk-top-container\"><div class=\"sk-text-repr-fallback\"><pre>Pipeline(steps=[(&#x27;simpleimputer&#x27;, SimpleImputer()), (&#x27;ridge&#x27;, Ridge())])</pre><b>In a Jupyter environment, please rerun this cell to show the HTML representation or trust the notebook. <br />On GitHub, the HTML representation is unable to render, please try loading this page with nbviewer.org.</b></div><div class=\"sk-container\" hidden><div class=\"sk-item sk-dashed-wrapped\"><div class=\"sk-label-container\"><div class=\"sk-label sk-toggleable\"><input class=\"sk-toggleable__control sk-hidden--visually\" id=\"sk-estimator-id-4\" type=\"checkbox\" ><label for=\"sk-estimator-id-4\" class=\"sk-toggleable__label sk-toggleable__label-arrow\">Pipeline</label><div class=\"sk-toggleable__content\"><pre>Pipeline(steps=[(&#x27;simpleimputer&#x27;, SimpleImputer()), (&#x27;ridge&#x27;, Ridge())])</pre></div></div></div><div class=\"sk-serial\"><div class=\"sk-item\"><div class=\"sk-estimator sk-toggleable\"><input class=\"sk-toggleable__control sk-hidden--visually\" id=\"sk-estimator-id-5\" type=\"checkbox\" ><label for=\"sk-estimator-id-5\" class=\"sk-toggleable__label sk-toggleable__label-arrow\">SimpleImputer</label><div class=\"sk-toggleable__content\"><pre>SimpleImputer()</pre></div></div></div><div class=\"sk-item\"><div class=\"sk-estimator sk-toggleable\"><input class=\"sk-toggleable__control sk-hidden--visually\" id=\"sk-estimator-id-6\" type=\"checkbox\" ><label for=\"sk-estimator-id-6\" class=\"sk-toggleable__label sk-toggleable__label-arrow\">Ridge</label><div class=\"sk-toggleable__content\"><pre>Ridge()</pre></div></div></div></div></div></div></div>"
      ],
      "text/plain": [
       "Pipeline(steps=[('simpleimputer', SimpleImputer()), ('ridge', Ridge())])"
      ]
     },
     "execution_count": 43,
     "metadata": {},
     "output_type": "execute_result"
    }
   ],
   "source": [
    "model.fit(X_train,y_train)"
   ]
  },
  {
   "cell_type": "markdown",
   "id": "b2dec35f",
   "metadata": {},
   "source": [
    "### Hyperparameter tuning"
   ]
  },
  {
   "cell_type": "code",
   "execution_count": 45,
   "id": "bbe8313b",
   "metadata": {},
   "outputs": [
    {
     "name": "stdout",
     "output_type": "stream",
     "text": [
      "Best Hyperparameters:  {'ridge__alpha': 10.0, 'simpleimputer__strategy': 'median'}\n",
      "Best RMSLE Score:  2319284.525517731\n"
     ]
    }
   ],
   "source": [
    "# Define the hyperparameters and their possible values to search\n",
    "param_grid = {\n",
    "    'ridge__alpha': [0.1, 1.0, 10.0],  # Example values for Ridge alpha parameter\n",
    "    'simpleimputer__strategy': ['mean', 'median']  # Example imputer strategies\n",
    "}\n",
    "\n",
    "# Perform Grid Search with cross-validation (cv=5 indicates 5-fold cross-validation)\n",
    "grid_search = GridSearchCV(model, param_grid, cv=5, scoring='neg_mean_squared_error', n_jobs=-1)\n",
    "\n",
    "# Fit the Grid Search to the data for hyperparameter tuning\n",
    "grid_search.fit(X_train, y_train)\n",
    "\n",
    "# Print the best hyperparameters and corresponding score\n",
    "print(\"Best Hyperparameters: \", grid_search.best_params_)\n",
    "\n"
   ]
  },
  {
   "cell_type": "code",
   "execution_count": 47,
   "id": "7fb8e977",
   "metadata": {},
   "outputs": [],
   "source": [
    "model = grid_search.best_estimator_"
   ]
  },
  {
   "cell_type": "markdown",
   "id": "1c716fbc",
   "metadata": {},
   "source": [
    "### Generating Prediction on the Training and Testing Data "
   ]
  },
  {
   "cell_type": "code",
   "execution_count": 48,
   "id": "77236f4c",
   "metadata": {},
   "outputs": [],
   "source": [
    "y_pred_train = model.predict(X_train)\n",
    "y_pred_test = model.predict(X_test)"
   ]
  },
  {
   "cell_type": "markdown",
   "id": "57693bff",
   "metadata": {},
   "source": [
    "<a id='eva'></a>\n",
    "## Model Evaluation"
   ]
  },
  {
   "cell_type": "code",
   "execution_count": 49,
   "id": "5d45618b",
   "metadata": {},
   "outputs": [],
   "source": [
    "from sklearn.metrics import mean_squared_log_error\n",
    "def RMSLE(y_true:np.ndarray, y_pred:np.ndarray):\n",
    "    \"\"\"\n",
    "        The Root Mean Squared Log Error (RMSLE) metric \n",
    "        \n",
    "        :param y_true: The ground truth labels given in the dataset\n",
    "        :param y_pred: Our predictions\n",
    "        :return: The RMSLE score\n",
    "    \"\"\"\n",
    "    return np.sqrt(mean_squared_log_error(y_true, y_pred))"
   ]
  },
  {
   "cell_type": "code",
   "execution_count": 50,
   "id": "a488499a",
   "metadata": {},
   "outputs": [
    {
     "name": "stdout",
     "output_type": "stream",
     "text": [
      "Baseline model RMSLE Value is: 0.5566647471904399\n",
      "Model RMSLE Value on Training data is: 0.492698362732253\n",
      "Model RMSLE Value on Test data  is: 0.5213969281571599\n"
     ]
    }
   ],
   "source": [
    "print(f'Baseline model RMSLE Value is: {RMSLE(y,y_pred_baseline)}')\n",
    "print(f'Model RMSLE Value on Training data is: {RMSLE(y_train,abs(y_pred_train))}')\n",
    "print(f'Model RMSLE Value on Test data  is: {RMSLE(y_test,abs(y_pred_test))}')"
   ]
  },
  {
   "cell_type": "markdown",
   "id": "6367db8c",
   "metadata": {},
   "source": [
    "#### From the above RMSLE Values it can be deduced that the model is performing better than the Baseline model and there it can be generalized"
   ]
  },
  {
   "cell_type": "markdown",
   "id": "f45ddb46",
   "metadata": {},
   "source": [
    "## Loading the test.csv data "
   ]
  },
  {
   "cell_type": "code",
   "execution_count": 51,
   "id": "4d17467a",
   "metadata": {},
   "outputs": [],
   "source": [
    "column = df.columns"
   ]
  },
  {
   "cell_type": "code",
   "execution_count": 52,
   "id": "a788cbd8",
   "metadata": {},
   "outputs": [],
   "source": [
    "df_test = pd.read_csv('test.csv')"
   ]
  },
  {
   "cell_type": "code",
   "execution_count": 53,
   "id": "8d442084",
   "metadata": {},
   "outputs": [],
   "source": [
    "X = df[column].drop(columns = 'price_doc')\n",
    "y = df['price_doc']"
   ]
  },
  {
   "cell_type": "code",
   "execution_count": 54,
   "id": "3d8bacb3",
   "metadata": {},
   "outputs": [
    {
     "data": {
      "text/plain": [
       "(7662, 291)"
      ]
     },
     "execution_count": 54,
     "metadata": {},
     "output_type": "execute_result"
    }
   ],
   "source": [
    "df_test.shape"
   ]
  },
  {
   "cell_type": "code",
   "execution_count": 55,
   "id": "e5a7d1c4",
   "metadata": {},
   "outputs": [
    {
     "data": {
      "text/plain": [
       "Index(['id', 'timestamp', 'full_sq', 'life_sq', 'floor', 'max_floor',\n",
       "       'material', 'build_year', 'num_room', 'kitch_sq',\n",
       "       ...\n",
       "       'cafe_count_5000_price_1500', 'cafe_count_5000_price_2500',\n",
       "       'cafe_count_5000_price_4000', 'cafe_count_5000_price_high',\n",
       "       'big_church_count_5000', 'church_count_5000', 'mosque_count_5000',\n",
       "       'leisure_count_5000', 'sport_count_5000', 'market_count_5000'],\n",
       "      dtype='object', length=291)"
      ]
     },
     "execution_count": 55,
     "metadata": {},
     "output_type": "execute_result"
    }
   ],
   "source": [
    "df_test.columns"
   ]
  },
  {
   "cell_type": "code",
   "execution_count": 58,
   "id": "0446dcad",
   "metadata": {},
   "outputs": [],
   "source": [
    "prediction = model.predict(X)"
   ]
  },
  {
   "cell_type": "code",
   "execution_count": 59,
   "id": "db473c01",
   "metadata": {},
   "outputs": [
    {
     "data": {
      "text/plain": [
       "0.4985743049466059"
      ]
     },
     "execution_count": 59,
     "metadata": {},
     "output_type": "execute_result"
    }
   ],
   "source": [
    "RMSLE(y,abs(prediction))"
   ]
  },
  {
   "cell_type": "markdown",
   "id": "37db5af8",
   "metadata": {},
   "source": [
    "### Creating the submission file"
   ]
  },
  {
   "cell_type": "code",
   "execution_count": 60,
   "id": "58687344",
   "metadata": {},
   "outputs": [],
   "source": [
    "submission = pd.DataFrame(prediction)"
   ]
  },
  {
   "cell_type": "code",
   "execution_count": 61,
   "id": "c16dc516",
   "metadata": {},
   "outputs": [],
   "source": [
    "submission.to_csv('submission.csv')"
   ]
  },
  {
   "cell_type": "code",
   "execution_count": null,
   "id": "697f2028",
   "metadata": {},
   "outputs": [],
   "source": []
  },
  {
   "cell_type": "code",
   "execution_count": 63,
   "id": "e19a1540",
   "metadata": {},
   "outputs": [
    {
     "name": "stdout",
     "output_type": "stream",
     "text": [
      "1367604.5157730533\n"
     ]
    }
   ],
   "source": [
    "from sklearn.metrics import mean_absolute_error\n",
    "print(mean_absolute_error(y_train,model.predict(X_train)))"
   ]
  },
  {
   "cell_type": "code",
   "execution_count": 64,
   "id": "67c12a6d",
   "metadata": {
    "scrolled": true
   },
   "outputs": [
    {
     "name": "stdout",
     "output_type": "stream",
     "text": [
      "1575353.450932338\n"
     ]
    }
   ],
   "source": [
    "print(mean_absolute_error(y_test,model.predict(X_test)))"
   ]
  },
  {
   "cell_type": "code",
   "execution_count": null,
   "id": "75df3962",
   "metadata": {},
   "outputs": [],
   "source": []
  }
 ],
 "metadata": {
  "kernelspec": {
   "display_name": "Python 3 (ipykernel)",
   "language": "python",
   "name": "python3"
  },
  "language_info": {
   "codemirror_mode": {
    "name": "ipython",
    "version": 3
   },
   "file_extension": ".py",
   "mimetype": "text/x-python",
   "name": "python",
   "nbconvert_exporter": "python",
   "pygments_lexer": "ipython3",
   "version": "3.10.9"
  }
 },
 "nbformat": 4,
 "nbformat_minor": 5
}
